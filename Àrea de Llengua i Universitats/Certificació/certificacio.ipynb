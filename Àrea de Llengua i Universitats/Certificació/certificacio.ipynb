{
 "cells": [
  {
   "cell_type": "markdown",
   "metadata": {
    "id": "4pGwiEipP5MC"
   },
   "source": [
    "# **Anàlisi de les certificacions**"
   ]
  },
  {
   "cell_type": "markdown",
   "metadata": {
    "id": "AbIxtF2UiX1k"
   },
   "source": [
    "L'Institut Ramon Llull organitza proves per a l'avaluació i la certificació de coneixements de català com a llengua estrangera fora del domini lingüístic. Les dades sobre aquestes proves es troben contingudes dins del conjunt de dades \"certificacions\" el qual es vol analitzar. Així doncs, en aquest primer script es poden descobrir els passos realitzats per a l'exploració i neteja d'aquest conjunt de dades prenent com a base les llibreries Numpy i Pandas."
   ]
  },
  {
   "cell_type": "markdown",
   "metadata": {
    "id": "0e_nUTZxQBiV"
   },
   "source": [
    "## Imports i includes\n",
    "\n",
    "Primer de tot, s'importen i s'instal·len tots els paquets i llibreries necessaris per al correcte desenvolupament de tot el projecte"
   ]
  },
  {
   "cell_type": "code",
   "execution_count": null,
   "metadata": {
    "colab": {
     "base_uri": "https://localhost:8080/"
    },
    "id": "ZhsB1ebjx1K3",
    "outputId": "ee0a76ef-3f9f-48d5-f47d-76be49c7debe"
   },
   "outputs": [
    {
     "name": "stdout",
     "output_type": "stream",
     "text": [
      "Requirement already satisfied: openpyxl in /usr/local/lib/python3.7/dist-packages (3.0.9)\n",
      "Requirement already satisfied: et-xmlfile in /usr/local/lib/python3.7/dist-packages (from openpyxl) (1.1.0)\n"
     ]
    }
   ],
   "source": [
    "pip install openpyxl --upgrade --pre"
   ]
  },
  {
   "cell_type": "code",
   "execution_count": null,
   "metadata": {
    "id": "Ep7C64yhGCni"
   },
   "outputs": [],
   "source": [
    "import pandas as pd\n",
    "from google.colab import files\n",
    "import io\n",
    "import matplotlib.pyplot as plt\n",
    "import altair as alt\n",
    "import numpy as np\n",
    "import time\n",
    "import difflib\n",
    "import re\n",
    "import datetime\n",
    "from collections import Counter"
   ]
  },
  {
   "cell_type": "markdown",
   "metadata": {
    "id": "Mmu0fjTmQEy7"
   },
   "source": [
    "## Exploració i neteja de dades"
   ]
  },
  {
   "cell_type": "markdown",
   "metadata": {
    "id": "H_7c6Uh6QHEt"
   },
   "source": [
    "A continuació, es llegeixen les dades directament extretes de la base de dades de l'Institut Ramon Llull:"
   ]
  },
  {
   "cell_type": "code",
   "execution_count": null,
   "metadata": {
    "colab": {
     "base_uri": "https://localhost:8080/",
     "height": 73,
     "resources": {
      "http://localhost:8080/nbextensions/google.colab/files.js": {
       "data": "Ly8gQ29weXJpZ2h0IDIwMTcgR29vZ2xlIExMQwovLwovLyBMaWNlbnNlZCB1bmRlciB0aGUgQXBhY2hlIExpY2Vuc2UsIFZlcnNpb24gMi4wICh0aGUgIkxpY2Vuc2UiKTsKLy8geW91IG1heSBub3QgdXNlIHRoaXMgZmlsZSBleGNlcHQgaW4gY29tcGxpYW5jZSB3aXRoIHRoZSBMaWNlbnNlLgovLyBZb3UgbWF5IG9idGFpbiBhIGNvcHkgb2YgdGhlIExpY2Vuc2UgYXQKLy8KLy8gICAgICBodHRwOi8vd3d3LmFwYWNoZS5vcmcvbGljZW5zZXMvTElDRU5TRS0yLjAKLy8KLy8gVW5sZXNzIHJlcXVpcmVkIGJ5IGFwcGxpY2FibGUgbGF3IG9yIGFncmVlZCB0byBpbiB3cml0aW5nLCBzb2Z0d2FyZQovLyBkaXN0cmlidXRlZCB1bmRlciB0aGUgTGljZW5zZSBpcyBkaXN0cmlidXRlZCBvbiBhbiAiQVMgSVMiIEJBU0lTLAovLyBXSVRIT1VUIFdBUlJBTlRJRVMgT1IgQ09ORElUSU9OUyBPRiBBTlkgS0lORCwgZWl0aGVyIGV4cHJlc3Mgb3IgaW1wbGllZC4KLy8gU2VlIHRoZSBMaWNlbnNlIGZvciB0aGUgc3BlY2lmaWMgbGFuZ3VhZ2UgZ292ZXJuaW5nIHBlcm1pc3Npb25zIGFuZAovLyBsaW1pdGF0aW9ucyB1bmRlciB0aGUgTGljZW5zZS4KCi8qKgogKiBAZmlsZW92ZXJ2aWV3IEhlbHBlcnMgZm9yIGdvb2dsZS5jb2xhYiBQeXRob24gbW9kdWxlLgogKi8KKGZ1bmN0aW9uKHNjb3BlKSB7CmZ1bmN0aW9uIHNwYW4odGV4dCwgc3R5bGVBdHRyaWJ1dGVzID0ge30pIHsKICBjb25zdCBlbGVtZW50ID0gZG9jdW1lbnQuY3JlYXRlRWxlbWVudCgnc3BhbicpOwogIGVsZW1lbnQudGV4dENvbnRlbnQgPSB0ZXh0OwogIGZvciAoY29uc3Qga2V5IG9mIE9iamVjdC5rZXlzKHN0eWxlQXR0cmlidXRlcykpIHsKICAgIGVsZW1lbnQuc3R5bGVba2V5XSA9IHN0eWxlQXR0cmlidXRlc1trZXldOwogIH0KICByZXR1cm4gZWxlbWVudDsKfQoKLy8gTWF4IG51bWJlciBvZiBieXRlcyB3aGljaCB3aWxsIGJlIHVwbG9hZGVkIGF0IGEgdGltZS4KY29uc3QgTUFYX1BBWUxPQURfU0laRSA9IDEwMCAqIDEwMjQ7CgpmdW5jdGlvbiBfdXBsb2FkRmlsZXMoaW5wdXRJZCwgb3V0cHV0SWQpIHsKICBjb25zdCBzdGVwcyA9IHVwbG9hZEZpbGVzU3RlcChpbnB1dElkLCBvdXRwdXRJZCk7CiAgY29uc3Qgb3V0cHV0RWxlbWVudCA9IGRvY3VtZW50LmdldEVsZW1lbnRCeUlkKG91dHB1dElkKTsKICAvLyBDYWNoZSBzdGVwcyBvbiB0aGUgb3V0cHV0RWxlbWVudCB0byBtYWtlIGl0IGF2YWlsYWJsZSBmb3IgdGhlIG5leHQgY2FsbAogIC8vIHRvIHVwbG9hZEZpbGVzQ29udGludWUgZnJvbSBQeXRob24uCiAgb3V0cHV0RWxlbWVudC5zdGVwcyA9IHN0ZXBzOwoKICByZXR1cm4gX3VwbG9hZEZpbGVzQ29udGludWUob3V0cHV0SWQpOwp9CgovLyBUaGlzIGlzIHJvdWdobHkgYW4gYXN5bmMgZ2VuZXJhdG9yIChub3Qgc3VwcG9ydGVkIGluIHRoZSBicm93c2VyIHlldCksCi8vIHdoZXJlIHRoZXJlIGFyZSBtdWx0aXBsZSBhc3luY2hyb25vdXMgc3RlcHMgYW5kIHRoZSBQeXRob24gc2lkZSBpcyBnb2luZwovLyB0byBwb2xsIGZvciBjb21wbGV0aW9uIG9mIGVhY2ggc3RlcC4KLy8gVGhpcyB1c2VzIGEgUHJvbWlzZSB0byBibG9jayB0aGUgcHl0aG9uIHNpZGUgb24gY29tcGxldGlvbiBvZiBlYWNoIHN0ZXAsCi8vIHRoZW4gcGFzc2VzIHRoZSByZXN1bHQgb2YgdGhlIHByZXZpb3VzIHN0ZXAgYXMgdGhlIGlucHV0IHRvIHRoZSBuZXh0IHN0ZXAuCmZ1bmN0aW9uIF91cGxvYWRGaWxlc0NvbnRpbnVlKG91dHB1dElkKSB7CiAgY29uc3Qgb3V0cHV0RWxlbWVudCA9IGRvY3VtZW50LmdldEVsZW1lbnRCeUlkKG91dHB1dElkKTsKICBjb25zdCBzdGVwcyA9IG91dHB1dEVsZW1lbnQuc3RlcHM7CgogIGNvbnN0IG5leHQgPSBzdGVwcy5uZXh0KG91dHB1dEVsZW1lbnQubGFzdFByb21pc2VWYWx1ZSk7CiAgcmV0dXJuIFByb21pc2UucmVzb2x2ZShuZXh0LnZhbHVlLnByb21pc2UpLnRoZW4oKHZhbHVlKSA9PiB7CiAgICAvLyBDYWNoZSB0aGUgbGFzdCBwcm9taXNlIHZhbHVlIHRvIG1ha2UgaXQgYXZhaWxhYmxlIHRvIHRoZSBuZXh0CiAgICAvLyBzdGVwIG9mIHRoZSBnZW5lcmF0b3IuCiAgICBvdXRwdXRFbGVtZW50Lmxhc3RQcm9taXNlVmFsdWUgPSB2YWx1ZTsKICAgIHJldHVybiBuZXh0LnZhbHVlLnJlc3BvbnNlOwogIH0pOwp9CgovKioKICogR2VuZXJhdG9yIGZ1bmN0aW9uIHdoaWNoIGlzIGNhbGxlZCBiZXR3ZWVuIGVhY2ggYXN5bmMgc3RlcCBvZiB0aGUgdXBsb2FkCiAqIHByb2Nlc3MuCiAqIEBwYXJhbSB7c3RyaW5nfSBpbnB1dElkIEVsZW1lbnQgSUQgb2YgdGhlIGlucHV0IGZpbGUgcGlja2VyIGVsZW1lbnQuCiAqIEBwYXJhbSB7c3RyaW5nfSBvdXRwdXRJZCBFbGVtZW50IElEIG9mIHRoZSBvdXRwdXQgZGlzcGxheS4KICogQHJldHVybiB7IUl0ZXJhYmxlPCFPYmplY3Q+fSBJdGVyYWJsZSBvZiBuZXh0IHN0ZXBzLgogKi8KZnVuY3Rpb24qIHVwbG9hZEZpbGVzU3RlcChpbnB1dElkLCBvdXRwdXRJZCkgewogIGNvbnN0IGlucHV0RWxlbWVudCA9IGRvY3VtZW50LmdldEVsZW1lbnRCeUlkKGlucHV0SWQpOwogIGlucHV0RWxlbWVudC5kaXNhYmxlZCA9IGZhbHNlOwoKICBjb25zdCBvdXRwdXRFbGVtZW50ID0gZG9jdW1lbnQuZ2V0RWxlbWVudEJ5SWQob3V0cHV0SWQpOwogIG91dHB1dEVsZW1lbnQuaW5uZXJIVE1MID0gJyc7CgogIGNvbnN0IHBpY2tlZFByb21pc2UgPSBuZXcgUHJvbWlzZSgocmVzb2x2ZSkgPT4gewogICAgaW5wdXRFbGVtZW50LmFkZEV2ZW50TGlzdGVuZXIoJ2NoYW5nZScsIChlKSA9PiB7CiAgICAgIHJlc29sdmUoZS50YXJnZXQuZmlsZXMpOwogICAgfSk7CiAgfSk7CgogIGNvbnN0IGNhbmNlbCA9IGRvY3VtZW50LmNyZWF0ZUVsZW1lbnQoJ2J1dHRvbicpOwogIGlucHV0RWxlbWVudC5wYXJlbnRFbGVtZW50LmFwcGVuZENoaWxkKGNhbmNlbCk7CiAgY2FuY2VsLnRleHRDb250ZW50ID0gJ0NhbmNlbCB1cGxvYWQnOwogIGNvbnN0IGNhbmNlbFByb21pc2UgPSBuZXcgUHJvbWlzZSgocmVzb2x2ZSkgPT4gewogICAgY2FuY2VsLm9uY2xpY2sgPSAoKSA9PiB7CiAgICAgIHJlc29sdmUobnVsbCk7CiAgICB9OwogIH0pOwoKICAvLyBXYWl0IGZvciB0aGUgdXNlciB0byBwaWNrIHRoZSBmaWxlcy4KICBjb25zdCBmaWxlcyA9IHlpZWxkIHsKICAgIHByb21pc2U6IFByb21pc2UucmFjZShbcGlja2VkUHJvbWlzZSwgY2FuY2VsUHJvbWlzZV0pLAogICAgcmVzcG9uc2U6IHsKICAgICAgYWN0aW9uOiAnc3RhcnRpbmcnLAogICAgfQogIH07CgogIGNhbmNlbC5yZW1vdmUoKTsKCiAgLy8gRGlzYWJsZSB0aGUgaW5wdXQgZWxlbWVudCBzaW5jZSBmdXJ0aGVyIHBpY2tzIGFyZSBub3QgYWxsb3dlZC4KICBpbnB1dEVsZW1lbnQuZGlzYWJsZWQgPSB0cnVlOwoKICBpZiAoIWZpbGVzKSB7CiAgICByZXR1cm4gewogICAgICByZXNwb25zZTogewogICAgICAgIGFjdGlvbjogJ2NvbXBsZXRlJywKICAgICAgfQogICAgfTsKICB9CgogIGZvciAoY29uc3QgZmlsZSBvZiBmaWxlcykgewogICAgY29uc3QgbGkgPSBkb2N1bWVudC5jcmVhdGVFbGVtZW50KCdsaScpOwogICAgbGkuYXBwZW5kKHNwYW4oZmlsZS5uYW1lLCB7Zm9udFdlaWdodDogJ2JvbGQnfSkpOwogICAgbGkuYXBwZW5kKHNwYW4oCiAgICAgICAgYCgke2ZpbGUudHlwZSB8fCAnbi9hJ30pIC0gJHtmaWxlLnNpemV9IGJ5dGVzLCBgICsKICAgICAgICBgbGFzdCBtb2RpZmllZDogJHsKICAgICAgICAgICAgZmlsZS5sYXN0TW9kaWZpZWREYXRlID8gZmlsZS5sYXN0TW9kaWZpZWREYXRlLnRvTG9jYWxlRGF0ZVN0cmluZygpIDoKICAgICAgICAgICAgICAgICAgICAgICAgICAgICAgICAgICAgJ24vYSd9IC0gYCkpOwogICAgY29uc3QgcGVyY2VudCA9IHNwYW4oJzAlIGRvbmUnKTsKICAgIGxpLmFwcGVuZENoaWxkKHBlcmNlbnQpOwoKICAgIG91dHB1dEVsZW1lbnQuYXBwZW5kQ2hpbGQobGkpOwoKICAgIGNvbnN0IGZpbGVEYXRhUHJvbWlzZSA9IG5ldyBQcm9taXNlKChyZXNvbHZlKSA9PiB7CiAgICAgIGNvbnN0IHJlYWRlciA9IG5ldyBGaWxlUmVhZGVyKCk7CiAgICAgIHJlYWRlci5vbmxvYWQgPSAoZSkgPT4gewogICAgICAgIHJlc29sdmUoZS50YXJnZXQucmVzdWx0KTsKICAgICAgfTsKICAgICAgcmVhZGVyLnJlYWRBc0FycmF5QnVmZmVyKGZpbGUpOwogICAgfSk7CiAgICAvLyBXYWl0IGZvciB0aGUgZGF0YSB0byBiZSByZWFkeS4KICAgIGxldCBmaWxlRGF0YSA9IHlpZWxkIHsKICAgICAgcHJvbWlzZTogZmlsZURhdGFQcm9taXNlLAogICAgICByZXNwb25zZTogewogICAgICAgIGFjdGlvbjogJ2NvbnRpbnVlJywKICAgICAgfQogICAgfTsKCiAgICAvLyBVc2UgYSBjaHVua2VkIHNlbmRpbmcgdG8gYXZvaWQgbWVzc2FnZSBzaXplIGxpbWl0cy4gU2VlIGIvNjIxMTU2NjAuCiAgICBsZXQgcG9zaXRpb24gPSAwOwogICAgZG8gewogICAgICBjb25zdCBsZW5ndGggPSBNYXRoLm1pbihmaWxlRGF0YS5ieXRlTGVuZ3RoIC0gcG9zaXRpb24sIE1BWF9QQVlMT0FEX1NJWkUpOwogICAgICBjb25zdCBjaHVuayA9IG5ldyBVaW50OEFycmF5KGZpbGVEYXRhLCBwb3NpdGlvbiwgbGVuZ3RoKTsKICAgICAgcG9zaXRpb24gKz0gbGVuZ3RoOwoKICAgICAgY29uc3QgYmFzZTY0ID0gYnRvYShTdHJpbmcuZnJvbUNoYXJDb2RlLmFwcGx5KG51bGwsIGNodW5rKSk7CiAgICAgIHlpZWxkIHsKICAgICAgICByZXNwb25zZTogewogICAgICAgICAgYWN0aW9uOiAnYXBwZW5kJywKICAgICAgICAgIGZpbGU6IGZpbGUubmFtZSwKICAgICAgICAgIGRhdGE6IGJhc2U2NCwKICAgICAgICB9LAogICAgICB9OwoKICAgICAgbGV0IHBlcmNlbnREb25lID0gZmlsZURhdGEuYnl0ZUxlbmd0aCA9PT0gMCA/CiAgICAgICAgICAxMDAgOgogICAgICAgICAgTWF0aC5yb3VuZCgocG9zaXRpb24gLyBmaWxlRGF0YS5ieXRlTGVuZ3RoKSAqIDEwMCk7CiAgICAgIHBlcmNlbnQudGV4dENvbnRlbnQgPSBgJHtwZXJjZW50RG9uZX0lIGRvbmVgOwoKICAgIH0gd2hpbGUgKHBvc2l0aW9uIDwgZmlsZURhdGEuYnl0ZUxlbmd0aCk7CiAgfQoKICAvLyBBbGwgZG9uZS4KICB5aWVsZCB7CiAgICByZXNwb25zZTogewogICAgICBhY3Rpb246ICdjb21wbGV0ZScsCiAgICB9CiAgfTsKfQoKc2NvcGUuZ29vZ2xlID0gc2NvcGUuZ29vZ2xlIHx8IHt9OwpzY29wZS5nb29nbGUuY29sYWIgPSBzY29wZS5nb29nbGUuY29sYWIgfHwge307CnNjb3BlLmdvb2dsZS5jb2xhYi5fZmlsZXMgPSB7CiAgX3VwbG9hZEZpbGVzLAogIF91cGxvYWRGaWxlc0NvbnRpbnVlLAp9Owp9KShzZWxmKTsK",
       "headers": [
        [
         "content-type",
         "application/javascript"
        ]
       ],
       "ok": true,
       "status": 200,
       "status_text": ""
      }
     }
    },
    "id": "IGJN72nZFOiL",
    "outputId": "1e995542-516e-4000-f136-9385894dbe4d"
   },
   "outputs": [
    {
     "data": {
      "text/html": [
       "\n",
       "     <input type=\"file\" id=\"files-46f8cefe-bd10-4478-92ef-91332550b2cc\" name=\"files[]\" multiple disabled\n",
       "        style=\"border:none\" />\n",
       "     <output id=\"result-46f8cefe-bd10-4478-92ef-91332550b2cc\">\n",
       "      Upload widget is only available when the cell has been executed in the\n",
       "      current browser session. Please rerun this cell to enable.\n",
       "      </output>\n",
       "      <script src=\"/nbextensions/google.colab/files.js\"></script> "
      ],
      "text/plain": [
       "<IPython.core.display.HTML object>"
      ]
     },
     "metadata": {},
     "output_type": "display_data"
    },
    {
     "name": "stdout",
     "output_type": "stream",
     "text": [
      "Saving certificacio.xlsx to certificacio.xlsx\n"
     ]
    }
   ],
   "source": [
    "Dades = files.upload()   # Importem el fitxer\n",
    "\n",
    "dd = pd.read_excel(io.BytesIO(Dades['certificacio.xlsx']))  # Llegim el fitxer en format .xlsx"
   ]
  },
  {
   "cell_type": "markdown",
   "metadata": {
    "id": "6WJLfZUwDRZM"
   },
   "source": [
    "Es comprova que les dades s'hagin carregat correctament així com s'observa la visió general del conjunt de dades:"
   ]
  },
  {
   "cell_type": "code",
   "execution_count": null,
   "metadata": {
    "colab": {
     "base_uri": "https://localhost:8080/",
     "height": 351
    },
    "id": "WmbstFvsKKvS",
    "outputId": "a85a8a70-1aba-4fbe-9ded-ae4fef7596dc"
   },
   "outputs": [
    {
     "data": {
      "text/html": [
       "\n",
       "  <div id=\"df-7649b5c0-9bf4-4643-bf03-821ecfdd1962\">\n",
       "    <div class=\"colab-df-container\">\n",
       "      <div>\n",
       "<style scoped>\n",
       "    .dataframe tbody tr th:only-of-type {\n",
       "        vertical-align: middle;\n",
       "    }\n",
       "\n",
       "    .dataframe tbody tr th {\n",
       "        vertical-align: top;\n",
       "    }\n",
       "\n",
       "    .dataframe thead th {\n",
       "        text-align: right;\n",
       "    }\n",
       "</style>\n",
       "<table border=\"1\" class=\"dataframe\">\n",
       "  <thead>\n",
       "    <tr style=\"text-align: right;\">\n",
       "      <th></th>\n",
       "      <th>id_examen</th>\n",
       "      <th>informe_avaluacio</th>\n",
       "      <th>certificat_mobilitat_creat</th>\n",
       "      <th>preu</th>\n",
       "      <th>import_pagat</th>\n",
       "      <th>data_pagament</th>\n",
       "      <th>presentat</th>\n",
       "      <th>resultat</th>\n",
       "      <th>canvi_pendent</th>\n",
       "      <th>id_conv_seus_nivells</th>\n",
       "      <th>...</th>\n",
       "      <th>hores_catala_alumne</th>\n",
       "      <th>motiu_prova_alumne</th>\n",
       "      <th>centre_catala_ultim_any</th>\n",
       "      <th>uni_catala_ultim_any</th>\n",
       "      <th>id_pais_alumnes</th>\n",
       "      <th>pais_alumne</th>\n",
       "      <th>num_pais_alumne</th>\n",
       "      <th>irpf1_pais_alumne</th>\n",
       "      <th>irpf2_pais_alumne</th>\n",
       "      <th>ambit_alumne</th>\n",
       "    </tr>\n",
       "  </thead>\n",
       "  <tbody>\n",
       "    <tr>\n",
       "      <th>0</th>\n",
       "      <td>3070</td>\n",
       "      <td>0</td>\n",
       "      <td>0</td>\n",
       "      <td>30</td>\n",
       "      <td>30</td>\n",
       "      <td>2011-03-20 12:11:47</td>\n",
       "      <td>1</td>\n",
       "      <td>1</td>\n",
       "      <td>0</td>\n",
       "      <td>1060</td>\n",
       "      <td>...</td>\n",
       "      <td>NaN</td>\n",
       "      <td>NaN</td>\n",
       "      <td>NaN</td>\n",
       "      <td>NaN</td>\n",
       "      <td>74</td>\n",
       "      <td>França</td>\n",
       "      <td>7.0</td>\n",
       "      <td>19</td>\n",
       "      <td>0</td>\n",
       "      <td>5</td>\n",
       "    </tr>\n",
       "    <tr>\n",
       "      <th>1</th>\n",
       "      <td>3466</td>\n",
       "      <td>0</td>\n",
       "      <td>0</td>\n",
       "      <td>30</td>\n",
       "      <td>30</td>\n",
       "      <td>2011-04-06 19:10:31</td>\n",
       "      <td>1</td>\n",
       "      <td>1</td>\n",
       "      <td>0</td>\n",
       "      <td>1060</td>\n",
       "      <td>...</td>\n",
       "      <td>NaN</td>\n",
       "      <td>ES</td>\n",
       "      <td>NaN</td>\n",
       "      <td>NaN</td>\n",
       "      <td>74</td>\n",
       "      <td>França</td>\n",
       "      <td>7.0</td>\n",
       "      <td>19</td>\n",
       "      <td>0</td>\n",
       "      <td>5</td>\n",
       "    </tr>\n",
       "    <tr>\n",
       "      <th>2</th>\n",
       "      <td>4130</td>\n",
       "      <td>0</td>\n",
       "      <td>0</td>\n",
       "      <td>30</td>\n",
       "      <td>30</td>\n",
       "      <td>2011-04-28 11:08:12</td>\n",
       "      <td>1</td>\n",
       "      <td>1</td>\n",
       "      <td>0</td>\n",
       "      <td>1060</td>\n",
       "      <td>...</td>\n",
       "      <td>1960-01-01 00:00:00</td>\n",
       "      <td>IN</td>\n",
       "      <td>NaN</td>\n",
       "      <td>NaN</td>\n",
       "      <td>74</td>\n",
       "      <td>França</td>\n",
       "      <td>7.0</td>\n",
       "      <td>19</td>\n",
       "      <td>0</td>\n",
       "      <td>5</td>\n",
       "    </tr>\n",
       "    <tr>\n",
       "      <th>3</th>\n",
       "      <td>10657</td>\n",
       "      <td>0</td>\n",
       "      <td>0</td>\n",
       "      <td>0</td>\n",
       "      <td>0</td>\n",
       "      <td>NaT</td>\n",
       "      <td>1</td>\n",
       "      <td>1</td>\n",
       "      <td>0</td>\n",
       "      <td>5478</td>\n",
       "      <td>...</td>\n",
       "      <td>1960-01-01 00:00:00</td>\n",
       "      <td>NaN</td>\n",
       "      <td>NaN</td>\n",
       "      <td>NaN</td>\n",
       "      <td>74</td>\n",
       "      <td>França</td>\n",
       "      <td>7.0</td>\n",
       "      <td>19</td>\n",
       "      <td>0</td>\n",
       "      <td>5</td>\n",
       "    </tr>\n",
       "    <tr>\n",
       "      <th>4</th>\n",
       "      <td>10723</td>\n",
       "      <td>0</td>\n",
       "      <td>0</td>\n",
       "      <td>0</td>\n",
       "      <td>0</td>\n",
       "      <td>NaT</td>\n",
       "      <td>1</td>\n",
       "      <td>1</td>\n",
       "      <td>0</td>\n",
       "      <td>5478</td>\n",
       "      <td>...</td>\n",
       "      <td>60-120</td>\n",
       "      <td>NaN</td>\n",
       "      <td>NaN</td>\n",
       "      <td>NaN</td>\n",
       "      <td>74</td>\n",
       "      <td>França</td>\n",
       "      <td>7.0</td>\n",
       "      <td>19</td>\n",
       "      <td>0</td>\n",
       "      <td>5</td>\n",
       "    </tr>\n",
       "  </tbody>\n",
       "</table>\n",
       "<p>5 rows × 66 columns</p>\n",
       "</div>\n",
       "      <button class=\"colab-df-convert\" onclick=\"convertToInteractive('df-7649b5c0-9bf4-4643-bf03-821ecfdd1962')\"\n",
       "              title=\"Convert this dataframe to an interactive table.\"\n",
       "              style=\"display:none;\">\n",
       "        \n",
       "  <svg xmlns=\"http://www.w3.org/2000/svg\" height=\"24px\"viewBox=\"0 0 24 24\"\n",
       "       width=\"24px\">\n",
       "    <path d=\"M0 0h24v24H0V0z\" fill=\"none\"/>\n",
       "    <path d=\"M18.56 5.44l.94 2.06.94-2.06 2.06-.94-2.06-.94-.94-2.06-.94 2.06-2.06.94zm-11 1L8.5 8.5l.94-2.06 2.06-.94-2.06-.94L8.5 2.5l-.94 2.06-2.06.94zm10 10l.94 2.06.94-2.06 2.06-.94-2.06-.94-.94-2.06-.94 2.06-2.06.94z\"/><path d=\"M17.41 7.96l-1.37-1.37c-.4-.4-.92-.59-1.43-.59-.52 0-1.04.2-1.43.59L10.3 9.45l-7.72 7.72c-.78.78-.78 2.05 0 2.83L4 21.41c.39.39.9.59 1.41.59.51 0 1.02-.2 1.41-.59l7.78-7.78 2.81-2.81c.8-.78.8-2.07 0-2.86zM5.41 20L4 18.59l7.72-7.72 1.47 1.35L5.41 20z\"/>\n",
       "  </svg>\n",
       "      </button>\n",
       "      \n",
       "  <style>\n",
       "    .colab-df-container {\n",
       "      display:flex;\n",
       "      flex-wrap:wrap;\n",
       "      gap: 12px;\n",
       "    }\n",
       "\n",
       "    .colab-df-convert {\n",
       "      background-color: #E8F0FE;\n",
       "      border: none;\n",
       "      border-radius: 50%;\n",
       "      cursor: pointer;\n",
       "      display: none;\n",
       "      fill: #1967D2;\n",
       "      height: 32px;\n",
       "      padding: 0 0 0 0;\n",
       "      width: 32px;\n",
       "    }\n",
       "\n",
       "    .colab-df-convert:hover {\n",
       "      background-color: #E2EBFA;\n",
       "      box-shadow: 0px 1px 2px rgba(60, 64, 67, 0.3), 0px 1px 3px 1px rgba(60, 64, 67, 0.15);\n",
       "      fill: #174EA6;\n",
       "    }\n",
       "\n",
       "    [theme=dark] .colab-df-convert {\n",
       "      background-color: #3B4455;\n",
       "      fill: #D2E3FC;\n",
       "    }\n",
       "\n",
       "    [theme=dark] .colab-df-convert:hover {\n",
       "      background-color: #434B5C;\n",
       "      box-shadow: 0px 1px 3px 1px rgba(0, 0, 0, 0.15);\n",
       "      filter: drop-shadow(0px 1px 2px rgba(0, 0, 0, 0.3));\n",
       "      fill: #FFFFFF;\n",
       "    }\n",
       "  </style>\n",
       "\n",
       "      <script>\n",
       "        const buttonEl =\n",
       "          document.querySelector('#df-7649b5c0-9bf4-4643-bf03-821ecfdd1962 button.colab-df-convert');\n",
       "        buttonEl.style.display =\n",
       "          google.colab.kernel.accessAllowed ? 'block' : 'none';\n",
       "\n",
       "        async function convertToInteractive(key) {\n",
       "          const element = document.querySelector('#df-7649b5c0-9bf4-4643-bf03-821ecfdd1962');\n",
       "          const dataTable =\n",
       "            await google.colab.kernel.invokeFunction('convertToInteractive',\n",
       "                                                     [key], {});\n",
       "          if (!dataTable) return;\n",
       "\n",
       "          const docLinkHtml = 'Like what you see? Visit the ' +\n",
       "            '<a target=\"_blank\" href=https://colab.research.google.com/notebooks/data_table.ipynb>data table notebook</a>'\n",
       "            + ' to learn more about interactive tables.';\n",
       "          element.innerHTML = '';\n",
       "          dataTable['output_type'] = 'display_data';\n",
       "          await google.colab.output.renderOutput(dataTable, element);\n",
       "          const docLink = document.createElement('div');\n",
       "          docLink.innerHTML = docLinkHtml;\n",
       "          element.appendChild(docLink);\n",
       "        }\n",
       "      </script>\n",
       "    </div>\n",
       "  </div>\n",
       "  "
      ],
      "text/plain": [
       "   id_examen  informe_avaluacio  certificat_mobilitat_creat  preu  \\\n",
       "0       3070                  0                           0    30   \n",
       "1       3466                  0                           0    30   \n",
       "2       4130                  0                           0    30   \n",
       "3      10657                  0                           0     0   \n",
       "4      10723                  0                           0     0   \n",
       "\n",
       "   import_pagat       data_pagament  presentat  resultat  canvi_pendent  \\\n",
       "0            30 2011-03-20 12:11:47          1         1              0   \n",
       "1            30 2011-04-06 19:10:31          1         1              0   \n",
       "2            30 2011-04-28 11:08:12          1         1              0   \n",
       "3             0                 NaT          1         1              0   \n",
       "4             0                 NaT          1         1              0   \n",
       "\n",
       "   id_conv_seus_nivells  ...  hores_catala_alumne  motiu_prova_alumne  \\\n",
       "0                  1060  ...                  NaN                 NaN   \n",
       "1                  1060  ...                  NaN                  ES   \n",
       "2                  1060  ...  1960-01-01 00:00:00                  IN   \n",
       "3                  5478  ...  1960-01-01 00:00:00                 NaN   \n",
       "4                  5478  ...               60-120                 NaN   \n",
       "\n",
       "   centre_catala_ultim_any  uni_catala_ultim_any id_pais_alumnes pais_alumne  \\\n",
       "0                      NaN                   NaN              74      França   \n",
       "1                      NaN                   NaN              74      França   \n",
       "2                      NaN                   NaN              74      França   \n",
       "3                      NaN                   NaN              74      França   \n",
       "4                      NaN                   NaN              74      França   \n",
       "\n",
       "   num_pais_alumne  irpf1_pais_alumne  irpf2_pais_alumne ambit_alumne  \n",
       "0              7.0                 19                  0            5  \n",
       "1              7.0                 19                  0            5  \n",
       "2              7.0                 19                  0            5  \n",
       "3              7.0                 19                  0            5  \n",
       "4              7.0                 19                  0            5  \n",
       "\n",
       "[5 rows x 66 columns]"
      ]
     },
     "execution_count": 4,
     "metadata": {},
     "output_type": "execute_result"
    }
   ],
   "source": [
    "dd.head()"
   ]
  },
  {
   "cell_type": "markdown",
   "metadata": {
    "id": "2F9wZMAXjZmP"
   },
   "source": [
    "S'obté informació de amb quantes tuples i variables s'està tractant així com el seu tipus:"
   ]
  },
  {
   "cell_type": "code",
   "execution_count": null,
   "metadata": {
    "colab": {
     "base_uri": "https://localhost:8080/"
    },
    "id": "VdkwUANSImmC",
    "outputId": "1100d9a8-f17a-4956-fac2-d4f047b0a6dc"
   },
   "outputs": [
    {
     "name": "stdout",
     "output_type": "stream",
     "text": [
      "<class 'pandas.core.frame.DataFrame'>\n",
      "RangeIndex: 19762 entries, 0 to 19761\n",
      "Data columns (total 66 columns):\n",
      " #   Column                                        Non-Null Count  Dtype         \n",
      "---  ------                                        --------------  -----         \n",
      " 0   id_examen                                     19762 non-null  int64         \n",
      " 1   informe_avaluacio                             19762 non-null  int64         \n",
      " 2   certificat_mobilitat_creat                    19762 non-null  int64         \n",
      " 3   preu                                          19762 non-null  int64         \n",
      " 4   import_pagat                                  19762 non-null  int64         \n",
      " 5   data_pagament                                 8816 non-null   datetime64[ns]\n",
      " 6   presentat                                     19762 non-null  int64         \n",
      " 7   resultat                                      19762 non-null  int64         \n",
      " 8   canvi_pendent                                 19762 non-null  int64         \n",
      " 9   id_conv_seus_nivells                          19762 non-null  int64         \n",
      " 10  actiu_conv_seus_nivells                       19762 non-null  int64         \n",
      " 11  preu_conv_seus_nivells                        19762 non-null  int64         \n",
      " 12  sequencial_conv_seus_nivells                  19762 non-null  int64         \n",
      " 13  id_nivell                                     19762 non-null  int64         \n",
      " 14  nivell                                        19762 non-null  object        \n",
      " 15  codi_nivell                                   19762 non-null  object        \n",
      " 16  preu_nivell                                   19762 non-null  int64         \n",
      " 17  num_clausus_nivell                            19762 non-null  int64         \n",
      " 18  id_conv_seus                                  19762 non-null  int64         \n",
      " 19  institucio_examen_conv_seus                   19762 non-null  object        \n",
      " 20  poblacio_examen_conv_seus                     19762 non-null  object        \n",
      " 21  format_electronic_conv_seus                   19762 non-null  int64         \n",
      " 22  enregistradora_conv_seus                      19762 non-null  int64         \n",
      " 23  id_convocatoria                               19762 non-null  int64         \n",
      " 24  nom_convocatoria                              19762 non-null  object        \n",
      " 25  any_convocatoria                              19762 non-null  int64         \n",
      " 26  codi_convocatoria                             19762 non-null  int64         \n",
      " 27  actiu_convocatoria                            19762 non-null  int64         \n",
      " 28  pagament_transferencia_actiu_convocatoria     19762 non-null  int64         \n",
      " 29  descarrega_proves_activa_convocatoria         19762 non-null  int64         \n",
      " 30  certificat_mobilitat_actiu_convocatoria       19762 non-null  int64         \n",
      " 31  data_obertura_liquidacio_convocatoria         19762 non-null  datetime64[ns]\n",
      " 32  data_tancament_liquidacio_convocatoria        19762 non-null  datetime64[ns]\n",
      " 33  data_examen                                   19762 non-null  datetime64[ns]\n",
      " 34  data_consulta_resultats_examens_convocatoria  19762 non-null  datetime64[ns]\n",
      " 35  data_obertura_inscripcio_convocatoria         19762 non-null  datetime64[ns]\n",
      " 36  data_tancament_inscripcio_convocatoria        19762 non-null  datetime64[ns]\n",
      " 37  id_seus                                       19762 non-null  int64         \n",
      " 38  nom_seus                                      19762 non-null  object        \n",
      " 39  sigles_seus                                   19762 non-null  object        \n",
      " 40  codi_seus                                     19762 non-null  int64         \n",
      " 41  gratuita_seus                                 19762 non-null  int64         \n",
      " 42  id_pais                                       19762 non-null  int64         \n",
      " 43  pais                                          19762 non-null  object        \n",
      " 44  num_pais                                      19753 non-null  float64       \n",
      " 45  irpf1_pais                                    19762 non-null  int64         \n",
      " 46  irpf2_pais                                    19762 non-null  int64         \n",
      " 47  id_alumnes                                    19762 non-null  int64         \n",
      " 48  data_naixement_alumne                         19762 non-null  object        \n",
      " 49  sexe_alumne                                   19732 non-null  object        \n",
      " 50  inscripcio_previa_cert_alumne                 19762 non-null  object        \n",
      " 51  nivell_estudis_alumne                         16876 non-null  object        \n",
      " 52  ocupacio_alumne                               16316 non-null  object        \n",
      " 53  llengua_materna_alumne                        17312 non-null  object        \n",
      " 54  codi_postal_alumne                            19685 non-null  object        \n",
      " 55  altres_llengues_alumne                        14972 non-null  object        \n",
      " 56  hores_catala_alumne                           15372 non-null  object        \n",
      " 57  motiu_prova_alumne                            14161 non-null  object        \n",
      " 58  centre_catala_ultim_any                       9565 non-null   object        \n",
      " 59  uni_catala_ultim_any                          4749 non-null   object        \n",
      " 60  id_pais_alumnes                               19762 non-null  int64         \n",
      " 61  pais_alumne                                   19762 non-null  object        \n",
      " 62  num_pais_alumne                               19536 non-null  float64       \n",
      " 63  irpf1_pais_alumne                             19762 non-null  int64         \n",
      " 64  irpf2_pais_alumne                             19762 non-null  int64         \n",
      " 65  ambit_alumne                                  19762 non-null  int64         \n",
      "dtypes: datetime64[ns](7), float64(2), int64(36), object(21)\n",
      "memory usage: 10.0+ MB\n"
     ]
    }
   ],
   "source": [
    "dd.info()"
   ]
  },
  {
   "cell_type": "code",
   "execution_count": null,
   "metadata": {
    "id": "IWldBchH6Zxt"
   },
   "outputs": [],
   "source": [
    "#Linia de codi introduida per evitar el warning fals positiu que retorna al realitzar indexacions\n",
    "pd.options.mode.chained_assignment = None  # default='warn'"
   ]
  },
  {
   "cell_type": "markdown",
   "metadata": {
    "id": "QFaUSkmK9XYC"
   },
   "source": [
    "Es nota que la variable data_naixement_alumne s'ha detectat incorrectament com a object en comptes de com a data. A continuació es canvia el tipus per a poder realitzar els següents anàlisis sense altre problema"
   ]
  },
  {
   "cell_type": "code",
   "execution_count": null,
   "metadata": {
    "id": "-XE53Je2802i"
   },
   "outputs": [],
   "source": [
    "dd.loc[dd['data_naixement_alumne'] == \"0000-00-00\", 'data_naixement_alumne'] = np.nan"
   ]
  },
  {
   "cell_type": "code",
   "execution_count": null,
   "metadata": {
    "id": "8kEN50WM9lr_"
   },
   "outputs": [],
   "source": [
    "dd['data_naixement_alumne'] = pd.to_datetime(dd['data_naixement_alumne'])"
   ]
  },
  {
   "cell_type": "markdown",
   "metadata": {
    "id": "5lE1iOlfDVJs"
   },
   "source": [
    "A partir d'aquí es comença a dur a terme l'exploració de les dades així com la seva neteja si aquestes ho requereixen:"
   ]
  },
  {
   "cell_type": "markdown",
   "metadata": {
    "id": "lUGN43jYQPwK"
   },
   "source": [
    "### Pas 1: Eliminar observacions irrellevants o duplicades"
   ]
  },
  {
   "cell_type": "markdown",
   "metadata": {
    "id": "gxK8fu8eQZjV"
   },
   "source": [
    "Per a saber si hi ha observacions irrellevants, s'ha de saber si hi ha alguna tupla on la gran majoria de columnes siguin nul·les.\n",
    "\n",
    "Per a fer-ho, es detecta si hi ha algun cas on la gran majoria d'IDs o variables importants que fan referència de forma directa a la inscripció de l'examen o a quelcom relacionat amb aquest són nul·les."
   ]
  },
  {
   "cell_type": "code",
   "execution_count": null,
   "metadata": {
    "colab": {
     "base_uri": "https://localhost:8080/"
    },
    "id": "DPM18-RPQg_u",
    "outputId": "7f2464ba-10b6-4e07-c88c-0229640a623f"
   },
   "outputs": [
    {
     "name": "stdout",
     "output_type": "stream",
     "text": [
      "Nombre de NaNs a id_examen :  0\n",
      "Nombre de NaNs a id_nivell :  0\n",
      "Nombre de NaNs a id_conv_seus :  0\n",
      "Nombre de NaNs a id_convocatoria :  0\n",
      "Nombre de NaNs a id_conv_seus_nivells :  0\n",
      "Nombre de NaNs a id_seus :  0\n",
      "Nombre de NaNs a id_pais :  0\n",
      "Nombre de NaNs a id_alumnes :  0\n"
     ]
    }
   ],
   "source": [
    "for id in ['id_examen', 'id_nivell', 'id_conv_seus', 'id_convocatoria', 'id_conv_seus_nivells', 'id_seus', 'id_pais', 'id_alumnes']:\n",
    "  print('Nombre de NaNs a', id, ': ', dd[id].isnull().sum())"
   ]
  },
  {
   "cell_type": "markdown",
   "metadata": {
    "id": "2WR-Ru28Q-6H"
   },
   "source": [
    "Totes les tuples tenen les variables més importants del conjunt de dades indicades i, per tant, es pot continuar amb l'anàlisi sense cap problema."
   ]
  },
  {
   "cell_type": "markdown",
   "metadata": {
    "id": "zRCvTwfanAR8"
   },
   "source": [
    "Tot seguit es comprova que no existeix cap tupla \"repetida\", és a dir, que tingui el mateix\n",
    "1. id_alumnes\n",
    "2. id_convocatoria \n",
    "3. id_nivell (ja que un usuari es pot presentar a múltiples nivells dins d'una convocatòria)\n",
    "\n",
    "Si existeix alguna tupla que trenca la restricció s'esborrarà la més antiga (dins les repetides), al ser generalment la que conté menys informació."
   ]
  },
  {
   "cell_type": "code",
   "execution_count": null,
   "metadata": {
    "colab": {
     "base_uri": "https://localhost:8080/"
    },
    "id": "x7lJ61tUsBEN",
    "outputId": "a7054a55-6ed5-4cca-c6d5-050d1c5a9fda"
   },
   "outputs": [
    {
     "name": "stdout",
     "output_type": "stream",
     "text": [
      "26\n"
     ]
    }
   ],
   "source": [
    "duplicades = dd.duplicated(['id_alumnes', 'id_convocatoria', 'id_nivell'], keep = False)\n",
    "print(len(dd[duplicades]))"
   ]
  },
  {
   "cell_type": "code",
   "execution_count": null,
   "metadata": {
    "id": "JjLOwvNDpftl"
   },
   "outputs": [],
   "source": [
    "dd = dd.drop_duplicates(subset = ['id_alumnes', 'id_convocatoria', 'id_nivell'], keep = 'last')"
   ]
  },
  {
   "cell_type": "markdown",
   "metadata": {
    "id": "jvOoS2uyubr3"
   },
   "source": [
    "### Pas 2: Tractar amb els Nans \n",
    "\n",
    "Els nuls es poden imputar, deixar-los si se sap que no produiran cap efecte sobre l'anàlisi o eliminar les tuples o columnes que els continguin. En aquest cas, només s'analitzarà el percentatge de nuls per columna i per tant aquestes seran directament eliminades si:\n",
    "\n",
    "\n",
    "1.   Més del 75% de les files són nul·les\n",
    "2.   Se sap que no es poden imputar a partir d'altres columnes\n",
    "3.   No aporten informació particularment rellevant\n",
    "\n",
    "Normalment és un pas que es faria més tard, tanmateix, es realitza abans perquè així es poden descobrir vàries columnes que s'eliminaran i que, per tant, no caldrà analitzar a posteriori."
   ]
  },
  {
   "cell_type": "code",
   "execution_count": null,
   "metadata": {
    "colab": {
     "base_uri": "https://localhost:8080/",
     "height": 345
    },
    "id": "04V6le2Y0HY0",
    "outputId": "db296451-c226-4792-e3e3-8e9c6d713945"
   },
   "outputs": [
    {
     "data": {
      "text/plain": [
       "<matplotlib.lines.Line2D at 0x7fce45a1bd10>"
      ]
     },
     "execution_count": 12,
     "metadata": {},
     "output_type": "execute_result"
    },
    {
     "data": {
      "image/png": "[encoded data removed]",
      "text/plain": [
       "<Figure size 1296x216 with 1 Axes>"
      ]
     },
     "metadata": {
      "needs_background": "light"
     },
     "output_type": "display_data"
    }
   ],
   "source": [
    "dd.isna().sum()[dd.isna().sum()>0].plot(kind='bar', figsize=(18, 3))\n",
    "plt.axhline(dd.shape[0]*0.75) #introduim una linia horitzontal a la gràfica que ens facilita visualitzar\n",
    "                              #les columnes amb més d'un 75% de nulls"
   ]
  },
  {
   "cell_type": "markdown",
   "metadata": {
    "id": "iOTlcfTr0xs9"
   },
   "source": [
    "Només la variable uni_catala_ultim_any conté un nombre excessiu de nuls. Tanmateix, és precisament una de les variables que es vol analitzar i, per tant, es mantindrà en el conjunt de dades saben en tot moment que les estadístiques obtingudes a partir d'aquesta variable no seran 100% fiables.\n"
   ]
  },
  {
   "cell_type": "markdown",
   "metadata": {
    "id": "wPs_3zpTuBOs"
   },
   "source": [
    "### Pas 3: Arreglar errors d'escriptura observats a texts (objectes) i dates\n",
    "\n",
    "Durant aquesta secció es pretén resoldre aquells problemes de codificació múltiple (múltiples cadenes de text volent dir el mateix), comprovar els formats de les dates i recodificar objectes massa llargs si és necessari, entre d'altres.\n",
    "\n",
    "Per a fer-ho, primer de tot es creen 3 grups de variables segons si són textos (o objectes), dates o números (analitzats en la secció 4):"
   ]
  },
  {
   "cell_type": "code",
   "execution_count": null,
   "metadata": {
    "colab": {
     "base_uri": "https://localhost:8080/"
    },
    "id": "UrFW6oXjLK54",
    "outputId": "5d59eeb1-442e-41e9-8f1b-8b7c6577df60"
   },
   "outputs": [
    {
     "name": "stdout",
     "output_type": "stream",
     "text": [
      "['id_examen', 'informe_avaluacio', 'certificat_mobilitat_creat', 'preu', 'import_pagat', 'presentat', 'resultat', 'canvi_pendent', 'id_conv_seus_nivells', 'actiu_conv_seus_nivells', 'preu_conv_seus_nivells', 'sequencial_conv_seus_nivells', 'id_nivell', 'preu_nivell', 'num_clausus_nivell', 'id_conv_seus', 'format_electronic_conv_seus', 'enregistradora_conv_seus', 'id_convocatoria', 'any_convocatoria', 'codi_convocatoria', 'actiu_convocatoria', 'pagament_transferencia_actiu_convocatoria', 'descarrega_proves_activa_convocatoria', 'certificat_mobilitat_actiu_convocatoria', 'id_seus', 'codi_seus', 'gratuita_seus', 'id_pais', 'num_pais', 'irpf1_pais', 'irpf2_pais', 'id_alumnes', 'id_pais_alumnes', 'num_pais_alumne', 'irpf1_pais_alumne', 'irpf2_pais_alumne', 'ambit_alumne']\n",
      "['nivell', 'codi_nivell', 'institucio_examen_conv_seus', 'poblacio_examen_conv_seus', 'nom_convocatoria', 'nom_seus', 'sigles_seus', 'pais', 'sexe_alumne', 'inscripcio_previa_cert_alumne', 'nivell_estudis_alumne', 'ocupacio_alumne', 'llengua_materna_alumne', 'codi_postal_alumne', 'altres_llengues_alumne', 'hores_catala_alumne', 'motiu_prova_alumne', 'centre_catala_ultim_any', 'uni_catala_ultim_any', 'pais_alumne']\n",
      "['data_pagament', 'data_obertura_liquidacio_convocatoria', 'data_tancament_liquidacio_convocatoria', 'data_examen', 'data_consulta_resultats_examens_convocatoria', 'data_obertura_inscripcio_convocatoria', 'data_tancament_inscripcio_convocatoria', 'data_naixement_alumne']\n"
     ]
    }
   ],
   "source": [
    "#Creem tres grups de variables segons si són strings, dates o números \n",
    "numeros = []\n",
    "strings = []\n",
    "dates = []\n",
    "for col_name in dd.columns:\n",
    "  if dd[col_name].dtypes == np.float64 or dd[col_name].dtypes == np.int64:\n",
    "    numeros.append(col_name)\n",
    "  elif dd[col_name].dtypes == 'object':\n",
    "    strings.append(col_name)\n",
    "  else: \n",
    "    dates.append(col_name)\n",
    "print(numeros)\n",
    "print(strings)\n",
    "print(dates)"
   ]
  },
  {
   "cell_type": "markdown",
   "metadata": {
    "id": "czM8Iet1QhvE"
   },
   "source": [
    "#### Pas 3.1: Dates"
   ]
  },
  {
   "cell_type": "markdown",
   "metadata": {
    "id": "6xFyhq9HNiqu"
   },
   "source": [
    "D'una banda es comprova que les dates es troben entre el 2003 i 2022 que són els anys durant els quals l'IRL ha realitzat exàmens de certificació.\n",
    "\n",
    "S'introdueix un cas especial de comprovació per a data_naixement_alumne. En aquest cas s'ha de saber que pot dur a terme l'examen tota persona que tingui més de catorze anys. A més a més, també es comprovarà que l'usuari tingui menys de noranta-cinc anys en considerar-se una edat a partir de la qual una persona ja no faria un examen d'aquest tipus."
   ]
  },
  {
   "cell_type": "code",
   "execution_count": null,
   "metadata": {
    "colab": {
     "base_uri": "https://localhost:8080/"
    },
    "id": "YkbE0AHzNh5p",
    "outputId": "2235601b-b1ee-41d6-f3cd-af1962569e25"
   },
   "outputs": [
    {
     "name": "stdout",
     "output_type": "stream",
     "text": [
      "\u001b[1m data_pagament :\u001b[0m minima 0 --------- maxima 0\n",
      "\u001b[1m data_obertura_liquidacio_convocatoria :\u001b[0m minima 0 --------- maxima 0\n",
      "\u001b[1m data_tancament_liquidacio_convocatoria :\u001b[0m minima 0 --------- maxima 0\n",
      "\u001b[1m data_examen :\u001b[0m minima 0 --------- maxima 0\n",
      "\u001b[1m data_consulta_resultats_examens_convocatoria :\u001b[0m minima 0 --------- maxima 0\n",
      "\u001b[1m data_obertura_inscripcio_convocatoria :\u001b[0m minima 0 --------- maxima 0\n",
      "\u001b[1m data_tancament_inscripcio_convocatoria :\u001b[0m minima 0 --------- maxima 0\n",
      "\u001b[1m data_naixement_alumne :\u001b[0m minima 17 --------- maxima 306\n"
     ]
    }
   ],
   "source": [
    "data_minima = pd.Timestamp(\"2003-1-1\")\n",
    "data_maxima = pd.Timestamp(\"2022-12-31\")\n",
    "data_max_naixement = datetime.datetime.now() - datetime.timedelta(days=14*365) # Has de tenir mínim 14 anys a l'hora de fer la prova\n",
    "data_min_naixement = datetime.datetime.now() - datetime.timedelta(days=95*365) #Assumint que no es realitzen examens amb més de 95 anys\n",
    "for col_name in dates:\n",
    "  if col_name == 'data_naixement_alumne': #No cal fer un else perquè és la última variable de \"dates\"\n",
    "    data_minima = data_min_naixement\n",
    "    data_maxima = data_max_naixement\n",
    "  print('\\033[1m', col_name,':\\033[0m', 'minima', np.sum(dd[col_name] < data_minima), '---------', 'maxima', np.sum(dd[col_name] > data_maxima))"
   ]
  },
  {
   "cell_type": "markdown",
   "metadata": {
    "id": "5rxHRXcEVvHG"
   },
   "source": [
    "Les dates que no es troben dins del rang especificat es consideren incorrectes i seran canviades a nul al no poder imputar la data de naixement dels candidats."
   ]
  },
  {
   "cell_type": "code",
   "execution_count": null,
   "metadata": {
    "id": "_iu60lunLVQk"
   },
   "outputs": [],
   "source": [
    "dd.loc[dd['data_naixement_alumne'] < data_min_naixement, 'data_naixement_alumne'] = np.nan\n",
    "dd.loc[dd['data_naixement_alumne'] > data_max_naixement, 'data_naixement_alumne'] = np.nan"
   ]
  },
  {
   "cell_type": "markdown",
   "metadata": {
    "id": "IzckYs1lQoRF"
   },
   "source": [
    "#### Pas 3.2: Objectes (text)"
   ]
  },
  {
   "cell_type": "markdown",
   "metadata": {
    "id": "anZOTAtmWDgz"
   },
   "source": [
    "D'altra banda, a continuació es confirma que els textos no tinguin errors d'escriptura. Aquells que tenen poques opcions es comproven visualment, mentre en els altres casos es realitzaran tècniques més avançades"
   ]
  },
  {
   "cell_type": "code",
   "execution_count": null,
   "metadata": {
    "colab": {
     "base_uri": "https://localhost:8080/"
    },
    "id": "rs_aopcDv8tI",
    "outputId": "83da6037-d3ec-4f93-b58e-26e553aa2501"
   },
   "outputs": [
    {
     "name": "stdout",
     "output_type": "stream",
     "text": [
      "\u001b[1m nivell :\u001b[0m ['Bàsic' 'Elemental' 'Suficiència' 'Intermedi' 'Superior']\n",
      "\u001b[1m codi_nivell :\u001b[0m ['A2' 'B1' 'C1' 'B2' 'C2']\n",
      "\u001b[1m nom_convocatoria :\u001b[0m ['1a convocatòria 2011' '1a convocatòria 2007' '1a convocatòria 2006'\n",
      " '1a convocatòria 2016' '1a convocatòria 2017' '1a convocatòria 2019'\n",
      " '1a convocatòria 2021' '1a convocatòria 2008' '1a convocatòria 2009'\n",
      " '1a convocatòria 2010' '1a convocatòria 2012' '1a convocatòria 2013'\n",
      " '1a convocatòria 2005' '1a convocatòria 2004' '1a convocatòria 2014'\n",
      " '1a convocatòria 2015' '1a convocatòria 2018' '1a convocatòria 2020'\n",
      " '2a convocatòria 2010' '2a convocatòria 2011' '2a convocatòria 2012'\n",
      " '2a convocatòria 2008' '2a convocatòria 2007' '2a convocatòria 2014'\n",
      " '2a convocatòria 2015' '2a convocatòria 2016' '2a convocatòria 2017'\n",
      " '2a convocatòria 2018' '2a convocatòria 2019' '2a convocatòria 2021'\n",
      " '1a convocatòria 2003' '2a convocatòria 2009' '2a convocatòria 2013'\n",
      " '2a convocatòria 2006' '2a convocatòria 2005']\n",
      "\u001b[1m sexe_alumne :\u001b[0m ['F' 'M' nan]\n",
      "\u001b[1m inscripcio_previa_cert_alumne :\u001b[0m ['N' 'S']\n",
      "\u001b[1m nivell_estudis_alumne :\u001b[0m [nan 'SU' 'TE' 'SE' 'PR']\n",
      "\u001b[1m hores_catala_alumne :\u001b[0m [nan datetime.datetime(1960, 1, 1, 0, 0) '60-120' '250+' '120-180'\n",
      " '180-250' '1-60h']\n",
      "\u001b[1m motiu_prova_alumne :\u001b[0m [nan 'ES' 'IN' 'LA' 'AL']\n",
      "\u001b[1m centre_catala_ultim_any :\u001b[0m [nan 'Universitat' 'Altres' 'Examinand lliure' 'Quito']\n"
     ]
    }
   ],
   "source": [
    "falta_revisar_strings = []\n",
    "for col_name in strings:\n",
    "  uniq = pd.unique(dd[col_name])\n",
    "  if len(uniq) < 40: \n",
    "    print('\\033[1m', col_name,':\\033[0m', uniq)\n",
    "  else:\n",
    "    falta_revisar_strings.append(col_name)"
   ]
  },
  {
   "cell_type": "markdown",
   "metadata": {
    "id": "YBxLs-vgvU4V"
   },
   "source": [
    "D'una banda es nota que la data \"datetime.datetime(1960, 1, 1, 0, 0)\" que hi ha al camp hores_catala_alumne és clarament incorrecte i, per tant, a continuació es canviarà a nul:"
   ]
  },
  {
   "cell_type": "code",
   "execution_count": null,
   "metadata": {
    "colab": {
     "base_uri": "https://localhost:8080/"
    },
    "id": "VXrtGzS3vmXB",
    "outputId": "5e9ed981-a23f-4680-f11e-7ac0a63b9434"
   },
   "outputs": [
    {
     "name": "stdout",
     "output_type": "stream",
     "text": [
      "4124\n"
     ]
    }
   ],
   "source": [
    "data_inc = dd['hores_catala_alumne'] == datetime.datetime(1960, 1, 1, 0, 0)\n",
    "print(sum(data_inc))\n",
    "dd.loc[data_inc, 'hores_catala_alumne'] = np.nan"
   ]
  },
  {
   "cell_type": "markdown",
   "metadata": {
    "id": "LC8vU8tMGml0"
   },
   "source": [
    "En veure que tantes tuples prenien aquest valor, es decideix tornar a calcular el percentatge de valors nuls per aquesta variable:"
   ]
  },
  {
   "cell_type": "code",
   "execution_count": null,
   "metadata": {
    "colab": {
     "base_uri": "https://localhost:8080/"
    },
    "id": "m8qlwNeHGkxU",
    "outputId": "5c1e27df-f644-4638-919c-ad7fab31e3da"
   },
   "outputs": [
    {
     "name": "stdout",
     "output_type": "stream",
     "text": [
      "43.1 % de nulls\n"
     ]
    }
   ],
   "source": [
    "llarg_dataset = len(dd)\n",
    "print(np.round(np.sum(pd.isna(dd['hores_catala_alumne']))/llarg_dataset*100, 2), \"% de nulls\")"
   ]
  },
  {
   "cell_type": "markdown",
   "metadata": {
    "id": "L0dqacKiyEnE"
   },
   "source": [
    "Aquest ha augmentat bastant, però continua sent un número raonable i, per tant, la variable es continuarà mantenint dins del conjunt de dades.\n"
   ]
  },
  {
   "cell_type": "markdown",
   "metadata": {
    "id": "J4qly1SvxEAr"
   },
   "source": [
    "Tot seguit, es nota que la variable centre_catala_ultim_any pren un valor \"Quito\" que no és correcte i, per tant, es recodificarà a \"Altres\"."
   ]
  },
  {
   "cell_type": "code",
   "execution_count": null,
   "metadata": {
    "colab": {
     "base_uri": "https://localhost:8080/"
    },
    "id": "EbOwdlcMxy52",
    "outputId": "0ccfab17-285d-47ff-dd7d-8614c081af92"
   },
   "outputs": [
    {
     "name": "stdout",
     "output_type": "stream",
     "text": [
      "1\n"
     ]
    }
   ],
   "source": [
    "quito = dd['centre_catala_ultim_any'] == \"Quito\"\n",
    "print(sum(quito)) #Només passa 1 cop \n",
    "dd.loc[quito, 'centre_catala_ultim_any'] = \"Altres\""
   ]
  },
  {
   "cell_type": "markdown",
   "metadata": {
    "id": "MhcrQ-R-G_bB"
   },
   "source": [
    "Així doncs, falta revisar les següents variables:"
   ]
  },
  {
   "cell_type": "code",
   "execution_count": null,
   "metadata": {
    "colab": {
     "base_uri": "https://localhost:8080/"
    },
    "id": "EHYPD2P6HA57",
    "outputId": "5a05ba41-e093-4511-bf45-1607d7920973"
   },
   "outputs": [
    {
     "data": {
      "text/plain": [
       "['institucio_examen_conv_seus',\n",
       " 'poblacio_examen_conv_seus',\n",
       " 'nom_seus',\n",
       " 'sigles_seus',\n",
       " 'pais',\n",
       " 'ocupacio_alumne',\n",
       " 'llengua_materna_alumne',\n",
       " 'codi_postal_alumne',\n",
       " 'altres_llengues_alumne',\n",
       " 'uni_catala_ultim_any',\n",
       " 'pais_alumne']"
      ]
     },
     "execution_count": 20,
     "metadata": {},
     "output_type": "execute_result"
    }
   ],
   "source": [
    "falta_revisar_strings"
   ]
  },
  {
   "cell_type": "markdown",
   "metadata": {
    "id": "kjPgyXnRHd6t"
   },
   "source": [
    "Primerament, se sap que les variables nom_seus, sigles_seus, pais i pais_alumne són completament correctes gràcies a l'origen de la base de dades i, per tant, no es realitzarà cap preprocès sobre aquestes, podent-les eliminar de la llista de variables a analitzar.\n"
   ]
  },
  {
   "cell_type": "markdown",
   "metadata": {
    "id": "HeT2JcG8IGXU"
   },
   "source": [
    "En segon lloc, s'analitzaran les variables institucio_examen_conv_seus i poblacio_examen_conv_seus. En nota que aquestes dues variables contenen un elevat nombre de tuples amb una 'a'. En veure que és un error, ja que el camp s'hauria de trobar omplert en tot moment en ser responsabilitat dels propis usuaris de l'IRL, es comenta amb l'àrea. Des de aquesta s'envia un Excel fet pels usuaris interns de l'IRL que conté la correspondència de cada convocatòria amb la població, institució i a més a més una nova variable \"Seu\", que indica el tipus d'institució i que també es vol analitzar.\n",
    "\n",
    "A continuació s'importa aquest Excel i es modifiquen les dues variables perquè prenguin el valor correcte en tot moment així com es crea la nova variable mencionada sota el nom \"tipus_institucio\".\n",
    "\n",
    "Es modifiquen totes les tuples, no només les que mostren una 'a', perquè sobre aquest Excel també s'ha realitzat una uniformització dels noms de les institucions de forma semimanual així com s'han canviat tots els noms al català, aquests passos ja fets per mi. A més a més, se li ha afegit l'id_conv_seu per a permetre el procés d'unificació dels dos conjunts de dades fàcilment."
   ]
  },
  {
   "cell_type": "code",
   "execution_count": null,
   "metadata": {
    "colab": {
     "base_uri": "https://localhost:8080/",
     "height": 73,
     "resources": {
      "http://localhost:8080/nbextensions/google.colab/files.js": {
       "data": "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",
       "headers": [
        [
         "content-type",
         "application/javascript"
        ]
       ],
       "ok": true,
       "status": 200,
       "status_text": ""
      }
     }
    },
    "id": "lEwtm_0lLSWR",
    "outputId": "ac3eb593-f346-4256-9fd7-5fa9b3489589"
   },
   "outputs": [
    {
     "data": {
      "text/html": [
       "\n",
       "     <input type=\"file\" id=\"files-c0888fd3-12fa-49f5-895f-e4da224c954d\" name=\"files[]\" multiple disabled\n",
       "        style=\"border:none\" />\n",
       "     <output id=\"result-c0888fd3-12fa-49f5-895f-e4da224c954d\">\n",
       "      Upload widget is only available when the cell has been executed in the\n",
       "      current browser session. Please rerun this cell to enable.\n",
       "      </output>\n",
       "      <script src=\"/nbextensions/google.colab/files.js\"></script> "
      ],
      "text/plain": [
       "<IPython.core.display.HTML object>"
      ]
     },
     "metadata": {},
     "output_type": "display_data"
    },
    {
     "name": "stdout",
     "output_type": "stream",
     "text": [
      "Saving Seus examen.xlsx to Seus examen.xlsx\n"
     ]
    }
   ],
   "source": [
    "Dades = files.upload()   # Importem el fitxer\n",
    "\n",
    "dd_institucions = pd.read_excel(io.BytesIO(Dades['Seus examen.xlsx']))  # Llegim el fitxer en format .xlsx"
   ]
  },
  {
   "cell_type": "code",
   "execution_count": null,
   "metadata": {
    "colab": {
     "base_uri": "https://localhost:8080/"
    },
    "id": "7rErNjfFLrLa",
    "outputId": "aaa0ed72-a22b-48d7-f46a-d958be05cfa1"
   },
   "outputs": [
    {
     "name": "stdout",
     "output_type": "stream",
     "text": [
      "<class 'pandas.core.frame.DataFrame'>\n",
      "RangeIndex: 1547 entries, 0 to 1546\n",
      "Data columns (total 6 columns):\n",
      " #   Column            Non-Null Count  Dtype \n",
      "---  ------            --------------  ----- \n",
      " 0   id_conv_seu       1547 non-null   int64 \n",
      " 1   convocatoria_nom  1547 non-null   object\n",
      " 2   localitat         1547 non-null   object\n",
      " 3   nom_institucio    1547 non-null   object\n",
      " 4   seu               1546 non-null   object\n",
      " 5   pais              1547 non-null   object\n",
      "dtypes: int64(1), object(5)\n",
      "memory usage: 72.6+ KB\n"
     ]
    }
   ],
   "source": [
    "dd_institucions.info()"
   ]
  },
  {
   "cell_type": "code",
   "execution_count": null,
   "metadata": {
    "id": "LDcNmcv3L75S"
   },
   "outputs": [],
   "source": [
    "# Creació de la variable tipus_institucio\n",
    "dd['tipus_institucio'] = 'tipus_institucio'\n",
    "\n",
    "#Realitzem els canvis de les tres variable\n",
    "for i in dd_institucions.index: #Per totes les files de dd_institucions\n",
    "  conv_seus = dd['id_conv_seus'] == dd_institucions[\"id_conv_seu\"][i] #busquem les files del conjunt de dades inicials que fan referència a la mateixa convocatòria i seu\n",
    "  dd.loc[conv_seus, 'institucio_examen_conv_seus'] = dd_institucions[\"nom_institucio\"][i]\n",
    "  dd.loc[conv_seus, 'poblacio_examen_conv_seus'] = dd_institucions[\"localitat\"][i]\n",
    "  dd.loc[conv_seus, 'tipus_institucio'] = dd_institucions[\"seu\"][i]"
   ]
  },
  {
   "cell_type": "markdown",
   "metadata": {
    "id": "DP-xwdvo9O5y"
   },
   "source": [
    "Un cop realitzat el procés explicat prèviament es passa a analitzar la variable ocupacio_alumne. Aquesta variable és agafada directament d'un camp de text lliure d'un formulari. Això dona lloc a múltiples variacions d'un mateix treball així com a múltiples ocupacions diferents. Com que és impossible uniformitzar-los tots un per un, s'unifiquen només les ocupacions més realitzades.\n",
    "\n",
    "Per a fer-ho, es crea un llista amb totes les paraules que surten en aquesta columna. Després, es compten el nombre de cops que surt cadascuna quedant-se amb les 80 paraules més repetides (assumint que no totes seran realment \"ocupacions\" i que varies d'elles voldran dir el mateix). Posteriorment, de les 80 paraules es realitzen grups amb les ocupacions i es van buscant a cada fila substituint el text actual per una d'aquestes ocupacions o nul."
   ]
  },
  {
   "cell_type": "code",
   "execution_count": null,
   "metadata": {
    "id": "UHQK7vUqyb3q"
   },
   "outputs": [],
   "source": [
    "#Creem la llista amb totes les paraules de la columna:\n",
    "dd[\"ocupacio_alumne\"]=dd[\"ocupacio_alumne\"].astype(str) #convertim tots els elements de la columna a strings\n",
    "ocupacions = ' '.join(dd[\"ocupacio_alumne\"]) #concatenem tota la columna en 1 sol string\n",
    "ocupacions = ocupacions.split() #dividim l'string per paraules\n",
    "#trobem les 80 paraules més comunes\n",
    "Count = Counter(ocupacions)\n",
    "ocupacions = Count.most_common(80)\n",
    "#ocupacions"
   ]
  },
  {
   "cell_type": "code",
   "execution_count": null,
   "metadata": {
    "id": "hMjZkzVvJFvB"
   },
   "outputs": [],
   "source": [
    "#realizem les substitucions del text actual per les noves categories\n",
    "dd.loc[dd['ocupacio_alumne'].str.contains(\"Estudiant|universitari|Student\", case=False), 'ocupacio_alumne'] = \"Estudiant\"\n",
    "dd.loc[dd['ocupacio_alumne'].str.contains(\"Professor|Profesor|Mestr|Docent|Maestra|Educador\", case=False), 'ocupacio_alumne'] = \"Professor\"\n",
    "dd.loc[dd['ocupacio_alumne'].str.contains(\"Administrat\", case=False), 'ocupacio_alumne'] = \"Administratiu\"\n",
    "dd.loc[dd['ocupacio_alumne'].str.contains(\"Funcionari\", case=False), 'ocupacio_alumne'] = \"Funcionari\"\n",
    "dd.loc[dd['ocupacio_alumne'].str.contains(\"Enginyer\", case=False), 'ocupacio_alumne'] = \"Enginyer\"\n",
    "dd.loc[dd['ocupacio_alumne'].str.contains(\"Periodista\", case=False), 'ocupacio_alumne'] = \"Periodista\"\n",
    "dd.loc[dd['ocupacio_alumne'].str.contains(\"Jubila\", case=False), 'ocupacio_alumne'] = \"Jubilat\"\n",
    "dd.loc[dd['ocupacio_alumne'].str.contains(\"Metge\", case=False), 'ocupacio_alumne'] = \"Metge\"\n",
    "dd.loc[dd['ocupacio_alumne'].str.contains(\"Traductor\", case=False), 'ocupacio_alumne'] = \"Traductor\"\n",
    "dd.loc[dd['ocupacio_alumne'].str.contains(\"Advocat\", case=False), 'ocupacio_alumne'] = \"Advocat\"\n",
    "dd.loc[dd['ocupacio_alumne'].str.contains(\"Infermera|Enfermera\", case=False), 'ocupacio_alumne'] = \"Infermer\"\n",
    "dd.loc[dd['ocupacio_alumne'].str.contains(\"Atur|Desempleada\", case=False), 'ocupacio_alumne'] = \"A l'atur\"\n",
    "dd.loc[dd['ocupacio_alumne'].str.contains(\"Arquitect\", case=False), 'ocupacio_alumne'] = \"Arquitecte\"\n",
    "dd.loc[dd['ocupacio_alumne'].str.contains(\"Economista\", case=False), 'ocupacio_alumne'] = \"Economista\"\n",
    "dd.loc[dd['ocupacio_alumne'].str.contains(\"Investigador\", case=False), 'ocupacio_alumne'] = \"Investigador\"\n",
    "dd.loc[dd['ocupacio_alumne'].str.contains(\"Comercial\", case=False), 'ocupacio_alumne'] = \"Comercial\"\n",
    "dd.loc[dd['ocupacio_alumne'].str.contains(\"Teleoperador\", case=False), 'ocupacio_alumne'] = \"Teleoperador\""
   ]
  },
  {
   "cell_type": "code",
   "execution_count": null,
   "metadata": {
    "id": "2HjDqFrrR-fr"
   },
   "outputs": [],
   "source": [
    "ocupacions = ['Estudiant', 'Professor', 'Administratiu', 'Funcionari', 'Enginyer', 'Periodista',\n",
    "              'Jubliat', 'Metge', 'Traductor', 'Advocat', 'Infermer', \"A l'atur\", 'Arquitecte', 'Economista',\n",
    "              'Investigador', 'Comercial', 'Teleoperador']\n",
    "#Trobem les tuples que no han estat assignades a cap de les categories anteriors i se'ls assigna un NA\n",
    "dd.loc[-dd['ocupacio_alumne'].str.contains('|'.join(ocupacions)), 'ocupacio_alumne'] = np.nan"
   ]
  },
  {
   "cell_type": "markdown",
   "metadata": {
    "id": "bVeuqtDFcEWp"
   },
   "source": [
    "A continuació s'explicarà el cas de la variable codi_postal_alumne. Aquesta variable indica el codi postal on els alumnes viuen a l'hora de realitzar la inscripció a l'examen, mentre el pais_alumne el país on aquests van néixer. En haver-hi tantes possibilitats de codi postal, a part de tots aquells incorrectes, es va demanar des de l'àrea que es recodifiqués aquesta variable en 5 valors:\n",
    "\n",
    "-  Catalunya\n",
    "-  Balears\n",
    "-  País Valencià\n",
    "-  Resta d'Espanya\n",
    "-  Resta del món\n",
    "\n",
    "Tanmateix, per a fer aquesta recodificació de forma 100% correcte es necessitaria tenir en una columna el país de residència actual de l'alumne, perquè el codi postal ha d'estar lligat a un país per a la correcta classificació. S'ha assumit doncs en tot cas que el país de naixement és també el país de residència per a dur a terme la recodificació dels codis postals a aquestes 5 categories esmentades anteriorment. La classificació s'ha portat a cap directament a l'Excel abans de carregar-se les dades i, per tant, no es podrà veure el procés. Com que ara la variable codi_postal_alumne ja no serà analitzada, pot ser eliminada del conjunt de dades.\n"
   ]
  },
  {
   "cell_type": "code",
   "execution_count": null,
   "metadata": {
    "id": "QjH3nT7wq2rq"
   },
   "outputs": [],
   "source": [
    "dd = dd.drop(columns = ['codi_postal_alumne'])"
   ]
  },
  {
   "cell_type": "markdown",
   "metadata": {
    "id": "Q0swnfR-VmLJ"
   },
   "source": [
    "Tot seguit, la llengua materna de l'alumne és altre cop un camp que s'obté a partir d'un formulari sent el camp que s'ha d'omplir lliure. Això dur a tenir vàries cadenes de text que volen dir el mateix. A més a més, la llengua materna es pot trobar composta no només per 1 idioma, sinó per múltiples.\n",
    "\n",
    "Per a solucionar aquest fet i uniformitzar la columna s'ha creat dues noves columnes i un array de correlacions. D'una banda, la columna llengua_materna_alumnes conté la versió uniformitzada del camp. D'altra banda, la columna lleng_m_alumne_llarg ajuda a distingir entre si l'idioma matern està compost per 1 llengua (màxim 10 caràcters) o més. Finalment, l'array relacio_llengues relaciona cada possible variació escrita d'una llengua amb la seva forma estàndard."
   ]
  },
  {
   "cell_type": "code",
   "execution_count": null,
   "metadata": {
    "id": "p-fnUVhzWJLG"
   },
   "outputs": [],
   "source": [
    "dd[\"llengua_materna_alumne\"]=dd[\"llengua_materna_alumne\"].astype(str) #convertim tots els elements de la columna a strings\n",
    "dd['lleng_m_alumne_llarg'] = dd['llengua_materna_alumne'].apply(len)\n",
    "#creem una nova variable --> lengua_materna_alumnes a qui li assignem tots els nous valors de llengües\n",
    "#utilitzada principalment per a poder tractar amb les persones que tenen més d'1 idioma matern\n",
    "dd['llengua_materna_alumnes'] = ' '"
   ]
  },
  {
   "cell_type": "code",
   "execution_count": null,
   "metadata": {
    "id": "pprp9t6FfiyS"
   },
   "outputs": [],
   "source": [
    "relacio_llengues = [[\"Cast|españ|catell|Cadtellan|espzñol|cvastellà|casell|Cstellà|span|Casrellà|Enpañol|Spag\",'Castellà'],\n",
    "                    [\"Catal|caralà|Catlà|Cátal|Calatana\",'Català'],  [\"Ital|Itàl\",'Italià'], \n",
    "                    [\"ngl|nlg|anflès|Angès|aglès\",'Anglès'], [\"alem|german|alam|allem\",'Alemany'],\n",
    "                    [\"Franc|Franç|Frenc\",'Francès'],  [\"serb|serv|sérb|sèrb\",'Serbi'],\n",
    "                    [\"holand|holland|Olandès|Dutch|Deut|Neerland|Nederland\",'Holandès'],\n",
    "                    [\"Portug|Potugu|Postugues\",'Portuguès'],  [\"Galle|Galeg|Gallèc\",'Gallec'],\n",
    "                    [\"Gal.les|Gales\",'Gal·lès'], [\"slov\",'Eslovac'],\n",
    "                    [\"Eusk|Basc|uscar|Vasco|Basque\",'Euskera'], [\"roman|rumen|ruman|Român\",'Romanès'],\n",
    "                    [\"Hong|Hungar|Húngar\",'Hongarès'], [\"pol|pòl\",'Polonès'],[\"txec|txéc|chec\",'Txec'],\n",
    "                    [\"croat|Croacia|ctroat\",'Croat'], [\"Valenci|Valènci\",'Valencià'], [\"punjabi\",'Panjabi'],\n",
    "                    [\"rab\",'Àrab'],  [\"rus\",'Rus'], [\"Core\",'Coreà'], [\"Korean\",'Coreà'],\n",
    "                    [\"Jap\",'Japonès'], [\"Est\",'Estonià'],  [\"Srpski\",'Srpski'], [\"ebre\",'Hebreu'],\n",
    "                    [\"Hindi\",'Hindi'],  [\"Grec|griego\",'Grec'], [\"Mallo\",'Mallorquí'],\n",
    "                    [\"MENORQUÍN\",'Menorquí'],[\"Eivis|ibi\",'Eivissenc'],  [\"Xin|CHINO\",'Xinès'],\n",
    "                    [\"Asturià\",'Asturià'], [\"Turc\",'Turc'],  [\"guaran\",'Guaraní'], [\"rutè\",'Rutè'],\n",
    "                    [\"alban\",'Albanès'], [\"Bosni\",'Bosni'], [\"ucra\",'Ucraïnès'], [\"Fin\",'Finès'],\n",
    "                    [\"Pers\",'Persa'], [\"Armeni\",'Armeni'], [\"vietnamita\",'Vietnamita'],\n",
    "                    [\"Lithuanian|litua\",'Lituà'],[\"hrvatski\",'Hrvatski'], [\"fili|tagal\",'Filipí'],\n",
    "                    [\"Papiamento\",'Papiamento'], [\"Gaelic\",'Gaèlic'], [\"Macedonic\",'Macedònic'],\n",
    "                    [\"lgar\",'Búlgar'],  [\"Vènet\",'Vènet'], [\"eština\",'Čeština'],[\"Flamenc\",'Flamenc'],\n",
    "                    [\"suec\",'Suec'], [\"Suizo\",'Suís'], [\"Aran\",'Aranès'], [\"aragones|PATUÉS\",'Aragonès'],\n",
    "                    [\"urdu\",'Urdú'], [\"mèxic|méxic|náhuatl\",'Mexicà'], [\"argent\",'Argentí'],\n",
    "                    [\"Shimaoré\",'Shimaoré'], [\"Bereber|Amazig|berber\",'Berber'], [\"farsi\",'Farsi'],\n",
    "                    [\"Mandinka\",'Mandinka'],  [\"sard\",'Sard'], [\"luxemburgues\",'Luxemburguès'],\n",
    "                    [\"Tailandès\",'Tailandès'],  [\"Occità\",'Occità'], [\"Alg\",'Alguerés'],\n",
    "                    [\"danes\",'Danès'], [\"Afrikaans\",'Afrikaans'], [\"Marroqui\",'Marroquí'],\n",
    "                    [\"Extremeño\",'Extremeny'],[\"bretó\",'Bretó'], [\"azeri\",'Àzeri'],[\"rifeño\",'Rifeny'],\n",
    "                    [\"kazakh\",'kazakh']]"
   ]
  },
  {
   "cell_type": "code",
   "execution_count": null,
   "metadata": {
    "id": "DR79dHxOu5Dj"
   },
   "outputs": [],
   "source": [
    "for i in range(0, len(relacio_llengues)):\n",
    "  dd.loc[(dd[\"llengua_materna_alumne\"].str.contains(relacio_llengues[i][0], case=False)) & (dd['lleng_m_alumne_llarg'] < 11), 'llengua_materna_alumnes'] = relacio_llengues[i][1]\n",
    "  dd.loc[(dd[\"llengua_materna_alumne\"].str.contains(relacio_llengues[i][0], case=False)) & (dd['lleng_m_alumne_llarg'] >= 11), 'llengua_materna_alumnes'] = dd['llengua_materna_alumnes'] + '/' + relacio_llengues[i][1]\n"
   ]
  },
  {
   "cell_type": "code",
   "execution_count": null,
   "metadata": {
    "id": "sJZIJtvITTwv"
   },
   "outputs": [],
   "source": [
    "#localitzem les files que no se'ls ha donat cap valor de llengua materna i substituim el ' ' per un NA\n",
    "dd.loc[dd[\"llengua_materna_alumnes\"]== ' ', 'llengua_materna_alumnes'] = np.nan\n",
    "\n",
    "#s'arregla la variable llengua_materna_alumnes, ajuntant categories dividies a causa que alguna variació \n",
    "#de l'idioma tenia més de 10 caràcters\n",
    "#exemples de variacions estranyes: \"llengua russa\" o \"castellà/espanyol\"\n",
    "dd.loc[dd[\"llengua_materna_alumnes\"]== ' /Alemany', 'llengua_materna_alumnes'] = 'Alemany'\n",
    "dd.loc[dd[\"llengua_materna_alumnes\"]== ' /Anglès', 'llengua_materna_alumnes'] = 'Anglès'\n",
    "dd.loc[dd[\"llengua_materna_alumnes\"]== ' /Castellà', 'llengua_materna_alumnes'] = 'Castellà'\n",
    "dd.loc[dd[\"llengua_materna_alumnes\"]== ' /Holandès', 'llengua_materna_alumnes'] = 'Holandès'\n",
    "dd.loc[dd[\"llengua_materna_alumnes\"]== ' /Serbi', 'llengua_materna_alumnes'] = 'Serbi'\n",
    "dd.loc[dd[\"llengua_materna_alumnes\"]== ' /Srpski', 'llengua_materna_alumnes'] = 'Srpski'\n",
    "dd.loc[dd[\"llengua_materna_alumnes\"]== ' /Filipí', 'llengua_materna_alumnes'] = 'Filipí'\n",
    "dd.loc[dd[\"llengua_materna_alumnes\"]== ' /Turc', 'llengua_materna_alumnes'] = 'Turc'\n",
    "dd.loc[dd[\"llengua_materna_alumnes\"]== ' /Francès', 'llengua_materna_alumnes'] = 'Francès'\n",
    "dd.loc[dd[\"llengua_materna_alumnes\"]== ' /Txec', 'llengua_materna_alumnes'] = 'Txec'\n",
    "dd.loc[dd[\"llengua_materna_alumnes\"]== ' /Polonès', 'llengua_materna_alumnes'] = 'Polonès'\n",
    "dd.loc[dd[\"llengua_materna_alumnes\"]== ' /Valencià', 'llengua_materna_alumnes'] = 'Valencià'\n",
    "dd.loc[dd[\"llengua_materna_alumnes\"]== ' /Luxemburguès', 'llengua_materna_alumnes'] = 'Luxemburguès'\n",
    "dd.loc[dd[\"llengua_materna_alumnes\"]== ' /Rus', 'llengua_materna_alumnes'] = 'Rus'\n",
    "dd.loc[dd[\"llengua_materna_alumnes\"]== ' /Mallorquí', 'llengua_materna_alumnes'] = 'Mallorquí'\n",
    "dd.loc[dd[\"llengua_materna_alumnes\"]== ' /Italià', 'llengua_materna_alumnes'] = 'Italià'\n",
    "dd.loc[dd[\"llengua_materna_alumnes\"]== ' /Català', 'llengua_materna_alumnes'] = 'Català'\n",
    "\n",
    "#Eliminem les variables que ja no necessitem del dataset\n",
    "dd = dd.drop(columns = ['lleng_m_alumne_llarg', 'llengua_materna_alumne'])"
   ]
  },
  {
   "cell_type": "markdown",
   "metadata": {
    "id": "VCGV-IIGc6qW"
   },
   "source": [
    "En penúltim lloc, pel que fa als textos, com que altre cop el camp altres_llengues_alumne prové d'un formulari on el camp que s'ha d'omplir és de text lliure, s'ha d'uniformitzar. Tanmateix, aquest cop no s'uniformitzaran tots els idiomes.\n",
    "\n",
    "Altrament, es busquen quines són les llengües més repetides en el conjunt de dades. Per a fer-ho, es concatena tota la columna en una única cadena de text i es busquen les paraules més repetides. S'agafen les paraules necessàries per arribar a tenir les 5 llengües més repetides (pel fet que 1 idioma pot repetir-se uns quants cops en trobar-se escrit de diferents formes). Es crea una nova columna booleana per cadascuna d'aquestes 5 llengües (1 - la llengua és present al camp altres_llengues, 0 - no s'hi troba).\n",
    "\n",
    "En un principi es va plantejar augmentar aquest nombre a 10, però només un 5% de les files eren 1 el qual representava un gran cost computacional i d'espai per no acabar traient pràcticament informació."
   ]
  },
  {
   "cell_type": "code",
   "execution_count": null,
   "metadata": {
    "id": "m6Cvmczmc59M"
   },
   "outputs": [],
   "source": [
    "#Creem la llista amb totes les paraules de la columna:\n",
    "dd[\"altres_llengues_alumne\"]=dd[\"altres_llengues_alumne\"].astype(str) #convertim tots els elements de la columna a strings\n",
    "altres_llengues = ' '.join(dd[\"altres_llengues_alumne\"]) #concatenem tota la columna en 1 sol string\n",
    "altres_llengues = re.split(', |,|-|\\s', altres_llengues) #dividim la sequencia prenent com a separadors \", \" \",\" i \"-\"\n",
    "#trobem les 80 paraules més comunes\n",
    "Count = Counter(altres_llengues)\n",
    "altres_llengues = Count.most_common(15)\n",
    "#altres_llengues"
   ]
  },
  {
   "cell_type": "code",
   "execution_count": null,
   "metadata": {
    "id": "9AJpeCarT2DO"
   },
   "outputs": [],
   "source": [
    "#Introduim en el dataset els 5 idiomes més comuns:\n",
    "dd['Anglès'] = 0\n",
    "dd['Francès'] = 0\n",
    "dd['Castellà'] = 0\n",
    "dd['Alemany'] = 0\n",
    "dd['Italià'] = 0\n",
    "\n",
    "#Fem altre cop les relacions de les diferents variacions dels idiomes amb les seves uniformitzacions:\n",
    "altres_llengues = [['Anglès','Anglès'], ['Inglés','Anglès'], ['Angles','Anglès'], ['Anglés','Anglès'], \n",
    "                   ['Ingles','Anglès'], ['Inglès','Anglès'], ['Franc','Francès'], ['Franç','Francès'], \n",
    "                   ['frenc','Francès'], ['Espanyol','Castellà'],['Castell','Castellà'],['Spanish','Castellà'],\n",
    "                   ['Español','Castellà'],['Alemany','Alemany'],['Alemán','Alemany'],['Alemà','Alemany'],\n",
    "                   ['german','Alemany'],['Ital','Italià'],['Itàl','Italià']] \n",
    "\n",
    "#Busquem cada variació de les llengues més populars a la columna i indiquem amb un 1 la columna de l'idioma corresponent si aparèix\n",
    "for i in range(0, len(altres_llengues)):\n",
    "  dd.loc[dd[\"altres_llengues_alumne\"].str.contains(altres_llengues[i][0], case=False), altres_llengues[i][1]] = 1\n",
    "\n",
    "#Eliminem del dataset la variable altres_llengues_alumne\n",
    "dd = dd.drop(columns = 'altres_llengues_alumne')\n"
   ]
  },
  {
   "cell_type": "code",
   "execution_count": null,
   "metadata": {
    "colab": {
     "base_uri": "https://localhost:8080/",
     "height": 534
    },
    "id": "ukyvWDfHZSc_",
    "outputId": "a2e466f8-3c64-4880-9ca9-a8f728f239e7"
   },
   "outputs": [
    {
     "name": "stderr",
     "output_type": "stream",
     "text": [
      "/usr/local/lib/python3.7/dist-packages/ipykernel_launcher.py:3: UserWarning: To output multiple subplots, the figure containing the passed axes is being cleared\n",
      "  This is separate from the ipykernel package so we can avoid doing imports until\n"
     ]
    },
    {
     "data": {
      "image/png": "[encoded data removed]",
      "text/plain": [
       "<Figure size 432x576 with 6 Axes>"
      ]
     },
     "metadata": {
      "needs_background": "light"
     },
     "output_type": "display_data"
    }
   ],
   "source": [
    "fig = plt.figure(figsize = (6,8))\n",
    "ax = fig.gca()\n",
    "dd.hist(['Anglès','Francès','Castellà','Alemany','Italià'], ax = ax);"
   ]
  },
  {
   "cell_type": "markdown",
   "metadata": {
    "id": "WfUjEgbJ8Gdm"
   },
   "source": [
    "En últim lloc, s'analitza la variable uni_catala_ultim_any. Aquesta és escrita a mà pels estudiants que realitzen la inscripció, raó per la qual múltiples cadenes de caràcters poden referir-se a la mateixa universitat. Així doncs, a continuació es du a terme un procés bàsic d'uniformització de la variable detectant el major nombre de relacions possible tot i que no s'assegura en cap moment que totes elles es trobin uniformitzades a causa de la gran quantitat de possibilitats."
   ]
  },
  {
   "cell_type": "code",
   "execution_count": null,
   "metadata": {
    "colab": {
     "base_uri": "https://localhost:8080/"
    },
    "id": "_E8mudRCJbWT",
    "outputId": "095cf21b-1be8-47a1-8f6e-3df5f9a690dd"
   },
   "outputs": [
    {
     "name": "stdout",
     "output_type": "stream",
     "text": [
      "1558\n",
      "1379\n"
     ]
    }
   ],
   "source": [
    "#Canviem a nan un valor totalment incorrecte que pren la variable\n",
    "dd.loc[dd['uni_catala_ultim_any']==1984, 'uni_catala_ultim_any'] = np.nan\n",
    "\n",
    "unis = pd.unique(dd['uni_catala_ultim_any'])\n",
    "print(len(unis))\n",
    "\n",
    "#Les passem totes a majúscules per a detectar parelles\n",
    "dd['uni_catala_ultim_any'] = dd['uni_catala_ultim_any'].str.upper()\n",
    "unis = pd.unique(dd['uni_catala_ultim_any'])\n",
    "print(len(unis))"
   ]
  },
  {
   "cell_type": "code",
   "execution_count": null,
   "metadata": {
    "id": "ipfbhjmyAcVn"
   },
   "outputs": [],
   "source": [
    "unis = unis.tolist()\n",
    "unis.remove(np.nan) #Eliminem el nan\n",
    "\n",
    "unis_iguals = []\n",
    "for x in unis:\n",
    "  similar = difflib.get_close_matches(x, unis, cutoff=0.91)\n",
    "  if len(similar) > 1: #té alguna parella a part d'ella mateixa\n",
    "    for y in similar:\n",
    "      dd.loc[dd['uni_catala_ultim_any'] == y, 'uni_catala_ultim_any'] = x\n",
    "      #unis_iguals.append([x,\":\", y])\n",
    "      unis.remove(y)\n",
    "#unis_iguals"
   ]
  },
  {
   "cell_type": "code",
   "execution_count": null,
   "metadata": {
    "colab": {
     "base_uri": "https://localhost:8080/"
    },
    "id": "KfcoJVWAPrpb",
    "outputId": "f4a839e9-7fba-483c-a880-c7e59e5c4652"
   },
   "outputs": [
    {
     "name": "stdout",
     "output_type": "stream",
     "text": [
      "1036\n"
     ]
    }
   ],
   "source": [
    "unis = pd.unique(dd['uni_catala_ultim_any'])\n",
    "print(len(unis))"
   ]
  },
  {
   "cell_type": "code",
   "execution_count": null,
   "metadata": {
    "id": "2XrZE2VDHiOe"
   },
   "outputs": [],
   "source": [
    "unisACanviar = [[\"AIX|MARS\",'AIX-MARSEILLE UNIVERSITÉ'],['MONTPELLIER','UNIVERSITÉ PAUL-VALÉRY MONTPELLIER III'], ['ZADAR', 'UNIVERSITAT DE ZADAR'],\n",
    "                ['HERRIKO|UPV|BASC|VASCO','EUSKAL HERRIKO UNIBERTSITATEA', 'UNIVERSITAT DEL PAÍS BASC'], ['ILLINOIS','UNIVERSITAT DE ILLINOIS (URBANA-CHAMPAIGN)'],\n",
    "                ['KONSTANZ','UNIVERSITAT KONSTANZ'], ['TRENTO','UNIVERSITÀ DEGLI STUDI DI TRENTO'], ['TOULOUSE|JAUR','UNIVERSITÉ TOULOUSE II JEAN JAURÈS - MIRAIL'],\n",
    "                ['HAVANA|HABANA', \"UNIVERSITAT DE L'HAVANA\"], ['CAMBRIDGE', 'CAMBRIDGE UNIVERSITY'], ['BOLO', 'UNIVERSITÀ DI BOLOGNA'], ['MASAR', 'UNIVERSITAT MASARYK BRNO'], \n",
    "                ['COMPOSTEL|USC|U.S.C','UNIVERSIDADE DE SANTIAGO DE COMPOSTELA'], ['CHILE|XILE', 'PONTIFICIA UNIVERSITAT CATÓLICA DE XILE'],\n",
    "                ['PETERSBURG|SPBGU', 'SAINT-PETERSBURG STATE UNIVERSITY'], ['SHEFFIELD','UNIVERSITY OF SHEFFIELD'], ['ALACANT','UNIVERSITAT ALACANT'],\n",
    "                ['HERNANDEZ|UMH','UNIVERSIDAD MIGUEL HERNANDEZ'], ['LEEDS', 'UNIVERSITY OF LEEDS'], ['CARDIFF','UNIVERSITAT DE CARDIFF'],\n",
    "                ['FOSCARI',\"UNIVERSITÀ CA' FOSCARI DI VENEZIA\"], ['EDINBURGH|EDIMBURG','UNIVERSITY OF EDINBURGH'], ['LEIPZIG', 'UNIVERSITAT DE LEIPZIG'],\n",
    "                ['TORINO|TORÍ|TORÌ|DE TURI', 'UNIVERSITÀ DEGLI STUDI DI TORINO'], ['NANTES', 'UNIVERSITÉ DE NANTES'], ['MAYN', 'MAYNOOTH UNIVERSITY'],\n",
    "                ['UNAM|MÉXICO','UNIVERSIDAD NACIONAL AUTÓNOMA DE MEXICO (UNAM)'], ['HEBRE','HEBREW UNIVERSITY'], ['QUEEN','QUEEN MARY, UNIVERSITY OF LONDON'],\n",
    "                ['HUMBOLDT','HUMBOLDT UNIVERSITÄT'], ['RUHR|BOCHUM','RUHR-UNIVERSITÄT BOCHUM'], ['BARI|ALDO',\"UNIVERSITA' DEGLI STUDI DI BARI ALDO MORO\"],\n",
    "                ['MSTERDAM', 'UNIVERSITY OF AMSTERDAM'], ['BELGRAD|FILOLOGIA','UNIVERSITAT DE LA FILOLOGIA DE BELGRAD'], ['USAL|SALAMANCA','UNIVERSIDAD DE SALAMANCA (USAL)'],\n",
    "                ['LISBOA', 'UNIVERSIDADE DE LETRAS DE LISBOA'], ['BRISTOL', 'UNIVERSITY OF BRISTOL'],['COLUMBIA', 'UNIVERSITAT DE COLUMBIA'], ['BUC','UNIVERSITATEA BUCURESTI'],\n",
    "                ['DURHAM','UNIVERSITY OF DURHAM'], ['NEWCASTLE','NEWCASTLE UNIVERSITY'], ['ELTE|EÖTVÖS|EOTVOS','EÖTVÖS LORÁND TUDOMÁNYEGYETEM (ELTE)'], ['LA SAPIENZA', 'UNIVERSITÀ DEGLI STUDI DI ROMA \"LA SAPIENZA\"'],\n",
    "                ['BEOGRAD|BEGRAD|FACULTY OF PHILOLOGY|FILOLOSKI FAKULTET','UNIVERSITAT DE LA FILOLOGIA DE BELGRAD'], ['JAGIELLO','UNIVERSITAT JAGELLÒNICA DE CRACÒVIA'], ['SIENA','UNIVERSITAT PER ESTRANGERS DE SIENA'],\n",
    "                ['ADAM M|ADAMA M|POZNA','UNIVERSISTAT DE ADAM MICKIEWICZ POZNA']]"
   ]
  },
  {
   "cell_type": "code",
   "execution_count": null,
   "metadata": {
    "id": "0-izBfLBH0UC"
   },
   "outputs": [],
   "source": [
    "for i in range(len(unisACanviar)):\n",
    "  dd.loc[dd[\"uni_catala_ultim_any\"].str.contains(unisACanviar[i][0], case=False, na=True), 'uni_catala_ultim_any'] = unisACanviar[i][1] #case = Flase --> no sensitiu a majúscules i minúscules \n",
    "  "
   ]
  },
  {
   "cell_type": "code",
   "execution_count": null,
   "metadata": {
    "colab": {
     "base_uri": "https://localhost:8080/"
    },
    "id": "7HbpZk8YOFyM",
    "outputId": "4e11661e-c583-48b0-dabc-1fa7b0588acb"
   },
   "outputs": [
    {
     "name": "stdout",
     "output_type": "stream",
     "text": [
      "663\n"
     ]
    }
   ],
   "source": [
    "unis = pd.unique(dd['uni_catala_ultim_any'])\n",
    "print(len(unis))"
   ]
  },
  {
   "cell_type": "code",
   "execution_count": null,
   "metadata": {
    "id": "g7RccQA2WoJ8"
   },
   "outputs": [],
   "source": [
    "#S'elimina algun valor que se sap que és totalment incorrecte\n",
    "dd.loc[dd['uni_catala_ultim_any']=='UNIVERSITAT', 'uni_catala_ultim_any'] = np.nan\n",
    "dd.loc[dd['uni_catala_ultim_any']=='A LA UNIVERSITAT', 'uni_catala_ultim_any'] = np.nan\n",
    "dd.loc[dd['uni_catala_ultim_any']=='A LA UNIVERSITAT.', 'uni_catala_ultim_any'] = np.nan\n",
    "dd.loc[dd['uni_catala_ultim_any']=='A LA MEVA UNIVERSITAT', 'uni_catala_ultim_any'] = np.nan\n",
    "dd.loc[dd['uni_catala_ultim_any']==\"A L'ESCOLA\", 'uni_catala_ultim_any'] = np.nan\n",
    "dd.loc[dd['uni_catala_ultim_any']=='EN L´ESCOLA', 'uni_catala_ultim_any'] = np.nan\n",
    "dd.loc[dd['uni_catala_ultim_any']=='NO HE CURSAT CATALÀ', 'uni_catala_ultim_any'] = np.nan"
   ]
  },
  {
   "cell_type": "markdown",
   "metadata": {
    "id": "-WdC4Tj0ehbu"
   },
   "source": [
    "### Pas 4: Comprovar la correctesa dels nombres"
   ]
  },
  {
   "cell_type": "markdown",
   "metadata": {
    "id": "HtMFGktQXR6E"
   },
   "source": [
    "Per a comprovar que les columnes que contenen números són correctes es realitzaran 3 tipus de mètodes. \n",
    "\n",
    "Per a les variables categòriques s'utilitzaran histogrames, per als IDs seqüencials, s'usarà simples gràfics de punts per a comprovar que la seqüència és contínua i per a les variables de tipus quantitatiu, com els imports, es començarà utilitzant boxplots, per a comprovar que cap nombre es troba fora del comú i s'acabarà utilitzant altres tècniques si les dades així ho requereixen."
   ]
  },
  {
   "cell_type": "code",
   "execution_count": null,
   "metadata": {
    "id": "7dDj3y8Afbqg"
   },
   "outputs": [],
   "source": [
    "categorics = ['informe_avaluacio','num_clausus_nivell','certificat_mobilitat_creat', 'presentat',\n",
    "              'resultat', 'canvi_pendent', 'id_nivell', 'actiu_conv_seus_nivells',\n",
    "              'format_electronic_conv_seus', 'enregistradora_conv_seus','codi_convocatoria', 'any_convocatoria',\n",
    "              'actiu_convocatoria', 'pagament_transferencia_actiu_convocatoria',\n",
    "              'descarrega_proves_activa_convocatoria', 'certificat_mobilitat_actiu_convocatoria','codi_seus',\n",
    "              'gratuita_seus', 'ambit_alumne']\n",
    "ids = ['id_examen', 'sequencial_conv_seus_nivells', 'id_conv_seus','id_convocatoria','id_seus','id_pais',\n",
    "       'num_pais','id_alumnes', 'id_pais_alumnes', 'num_pais_alumne', 'id_conv_seus_nivells']\n",
    "quant = ['irpf1_pais_alumne', 'irpf2_pais_alumne', 'preu','preu_conv_seus_nivells', 'import_pagat',\n",
    "         'preu_nivell', 'irpf1_pais', 'irpf2_pais']"
   ]
  },
  {
   "cell_type": "markdown",
   "metadata": {
    "id": "Lq-phetDnBWw"
   },
   "source": [
    "En primer lloc s'analitzen les variables categòriques:"
   ]
  },
  {
   "cell_type": "code",
   "execution_count": null,
   "metadata": {
    "colab": {
     "base_uri": "https://localhost:8080/",
     "height": 1000
    },
    "id": "FDmJZc0nXeC2",
    "outputId": "10768346-ad9f-4540-add6-ce5551bed33a"
   },
   "outputs": [
    {
     "name": "stderr",
     "output_type": "stream",
     "text": [
      "/usr/local/lib/python3.7/dist-packages/ipykernel_launcher.py:3: UserWarning: To output multiple subplots, the figure containing the passed axes is being cleared\n",
      "  This is separate from the ipykernel package so we can avoid doing imports until\n"
     ]
    },
    {
     "data": {
      "image/png": "[encoded data removed]",
      "text/plain": [
       "<Figure size 1080x1440 with 20 Axes>"
      ]
     },
     "metadata": {
      "needs_background": "light"
     },
     "output_type": "display_data"
    }
   ],
   "source": [
    "fig = plt.figure(figsize = (15,20))\n",
    "ax = fig.gca()\n",
    "dd.hist(categorics, ax = ax);"
   ]
  },
  {
   "cell_type": "markdown",
   "metadata": {
    "id": "BBAjs3q013Au"
   },
   "source": [
    "Es nota que les variables canvi_pendent i actiu_convocatoria només prenen el valor 0 sent doncs informació no útil que per tant s'elimina del conjunt de dades"
   ]
  },
  {
   "cell_type": "code",
   "execution_count": null,
   "metadata": {
    "id": "F-ap8wEs1_vV"
   },
   "outputs": [],
   "source": [
    "dd = dd.drop(columns = ['canvi_pendent', 'actiu_convocatoria'])"
   ]
  },
  {
   "cell_type": "markdown",
   "metadata": {
    "id": "xNr5HDaibKir"
   },
   "source": [
    "A continuació s'analitzen els IDs:"
   ]
  },
  {
   "cell_type": "code",
   "execution_count": null,
   "metadata": {
    "colab": {
     "base_uri": "https://localhost:8080/",
     "height": 453
    },
    "id": "alzO5brOYELS",
    "outputId": "d84264c5-b57a-4273-ad46-58a2079ac887"
   },
   "outputs": [
    {
     "data": {
      "image/png": "[encoded data removed]",
      "text/plain": [
       "<Figure size 1152x432 with 12 Axes>"
      ]
     },
     "metadata": {
      "needs_background": "light"
     },
     "output_type": "display_data"
    }
   ],
   "source": [
    "fig, axs = plt.subplots(2, 6)\n",
    "fig.set_figheight(6)\n",
    "fig.set_figwidth(16)\n",
    "fig.tight_layout()\n",
    "aux = [0,0,0,0,0,0,1,1,1,1,1,1]\n",
    "for i in range(0,len(ids)):\n",
    "  axs[aux[i], np.mod(i,6)].plot(dd[ids[i]],dd[ids[i]], 'o')\n",
    "  axs[aux[i], np.mod(i,6)].set_title(ids[i])"
   ]
  },
  {
   "cell_type": "markdown",
   "metadata": {
    "id": "1YvgW7gH7RLD"
   },
   "source": [
    "El salt altament visible a la variable id_conv_seus_nivells sembla extrany. Tanmateix, s'analitza i s'arriba a la conclusió que la variable és correcte"
   ]
  },
  {
   "cell_type": "markdown",
   "metadata": {
    "id": "_HJHBwsdbWcx"
   },
   "source": [
    "Finalment s'analitzen les variables quantitatives"
   ]
  },
  {
   "cell_type": "code",
   "execution_count": null,
   "metadata": {
    "colab": {
     "base_uri": "https://localhost:8080/",
     "height": 484
    },
    "id": "MJ9rZelWkabF",
    "outputId": "6eee7737-4bb7-45bc-d293-4a9c37a9c746"
   },
   "outputs": [
    {
     "data": {
      "image/png": "[encoded data removed]",
      "text/plain": [
       "<Figure size 1008x576 with 1 Axes>"
      ]
     },
     "metadata": {
      "needs_background": "light"
     },
     "output_type": "display_data"
    }
   ],
   "source": [
    "dd[quant].plot.box(figsize=(14,8));"
   ]
  },
  {
   "cell_type": "markdown",
   "metadata": {
    "id": "2Q0N19p9kcbw"
   },
   "source": [
    "Cap valor es troba fora dels rangs interquartílics i per tant es considera tot correcte"
   ]
  },
  {
   "cell_type": "markdown",
   "metadata": {
    "id": "bbK1rIyxunOH"
   },
   "source": [
    "### Pas 5: Validar la correctesa de les dades en funció de la seva naturalesa"
   ]
  },
  {
   "cell_type": "markdown",
   "metadata": {
    "id": "OMP2BAsPbilu"
   },
   "source": [
    "La majoria de restriccions que les dades han de complir ja s'han comprovat de manera intrínseca mentre s'analitzaven els valors que aquestes prenien i, per tant, només falta comprovar que els països amb taxes no exemptes de pagaments prenguin algun 0 per a la variable preu.\n",
    "\n",
    "En concret se sap que els exàmens de nivell bàsic valen 30 €, els de nivell elemental i intermedi 35 € i finalment els dos nivells superiors 40 €. A continuació doncs s'assegurarà que tots els exàmens que s'hagin realitzat en algunes de les localitats no exemptes de pagament tinguin la variable preu correctament informada en funció d'aquesta normativa."
   ]
  },
  {
   "cell_type": "code",
   "execution_count": null,
   "metadata": {
    "id": "5ulwjsRcJA70"
   },
   "outputs": [],
   "source": [
    "paisos_paguen = \"França|Estats Units d'Amèrica|Països Baixos|Alemanya|Regne Unit|Itàlia|BèlgicaIrlanda|Suïssa|Espanya|Israel|Luxemburg|Austràlia|Canadà|Equador|Xile|Corea, República de|Japó|Portugal|Finlàndia\"\n",
    "dd.loc[(dd[\"nivell\"]==\"Bàsic\") & (dd[\"pais\"].str.contains(paisos_paguen, case=False)), 'preu'] = 30\n",
    "dd.loc[(dd[\"nivell\"].str.contains(\"Elemental|Intermedi\", case=False)) & (dd[\"pais\"].str.contains(paisos_paguen, case=False)), 'preu'] = 35\n",
    "dd.loc[(dd[\"nivell\"].str.contains(\"Suficiència|Superior\", case=False)) & (dd[\"pais\"].str.contains(paisos_paguen, case=False)), 'preu'] = 40"
   ]
  },
  {
   "cell_type": "markdown",
   "metadata": {
    "id": "jIEKXwCnQ-ki"
   },
   "source": [
    "### Pas 6: Construcció o recodificació de les variables per a realitzar els gràfics"
   ]
  },
  {
   "cell_type": "markdown",
   "metadata": {
    "id": "idODvBHRblZs"
   },
   "source": [
    "Tot seguit es recodificaran o es crearan noves variables amb l'objectiu de poder realitzar els gràfics de forma més senzilla."
   ]
  },
  {
   "cell_type": "markdown",
   "metadata": {
    "id": "gzD0sfXeIDlV"
   },
   "source": [
    "1.  Per tal de saber si com més dies es troba oberta una convocatòria, més alumnes s'apunten a aquesta, es codifica una nova variable que contingui el nombre de dies d'obertura per a posteriorment poder realitzar amb major facilitat el gràfic"
   ]
  },
  {
   "cell_type": "code",
   "execution_count": null,
   "metadata": {
    "id": "JdZ_bx-1ISvF"
   },
   "outputs": [],
   "source": [
    "dd['dies_inscripcio_convocatoria'] = (dd['data_tancament_inscripcio_convocatoria'] - dd['data_obertura_inscripcio_convocatoria']).dt.days"
   ]
  },
  {
   "cell_type": "markdown",
   "metadata": {
    "id": "vpKRtNX0OrOZ"
   },
   "source": [
    "2.  A continuació es calcula l'edat que tenen els alumnes per a poder-la analitzar:"
   ]
  },
  {
   "cell_type": "code",
   "execution_count": null,
   "metadata": {
    "id": "ICjN1oNTOv45"
   },
   "outputs": [],
   "source": [
    "avui = datetime.datetime.now()\n",
    "dd['edat_alumnes'] = np.round(((avui - dd['data_naixement_alumne']).dt.days)/365, 0)"
   ]
  },
  {
   "cell_type": "markdown",
   "metadata": {
    "id": "x225w8clusrw"
   },
   "source": [
    "3.  Tot seguit, tot i que no seria estrictament necessari, per tal que els gràfics quedin més entenedors i el codi sigui el més fàcil possible es recodificaran les variables que indiquen els nivells d'estudis i el motiu per a realitzar les proves"
   ]
  },
  {
   "cell_type": "code",
   "execution_count": null,
   "metadata": {
    "id": "RbPPEQZ4vP05"
   },
   "outputs": [],
   "source": [
    "dd.loc[dd['nivell_estudis_alumne'] == 'SU', 'nivell_estudis_alumne'] = \"Superiors\"\n",
    "dd.loc[dd['nivell_estudis_alumne'] == 'TE', 'nivell_estudis_alumne'] = \"Tècnics\"\n",
    "dd.loc[dd['nivell_estudis_alumne'] == 'SE', 'nivell_estudis_alumne'] = \"Secundaris\"\n",
    "dd.loc[dd['nivell_estudis_alumne'] == 'PR', 'nivell_estudis_alumne'] = \"Primaris\"\n",
    "dd.loc[dd['motiu_prova_alumne'] == 'ES', 'motiu_prova_alumne'] = \"Estudis de lingüística o filologia\"\n",
    "dd.loc[dd['motiu_prova_alumne'] == 'IN', 'motiu_prova_alumne'] = \"Interès personal\"\n",
    "dd.loc[dd['motiu_prova_alumne'] == 'LA', 'motiu_prova_alumne'] = \"Laboral\"\n",
    "dd.loc[dd['motiu_prova_alumne'] == 'AL', 'motiu_prova_alumne'] = \"Altres\""
   ]
  },
  {
   "cell_type": "markdown",
   "metadata": {
    "id": "g7NWr6vcvKei"
   },
   "source": [
    "4.  Posteriorment, es realitza el mateix proccés però en aquest cas amb les variables resultat i ambit_alumne per a comprendre millor les seves categories"
   ]
  },
  {
   "cell_type": "code",
   "execution_count": null,
   "metadata": {
    "id": "t5wrjQ5ovTYP"
   },
   "outputs": [],
   "source": [
    "dd.loc[dd['resultat']==-1, 'resultat'] = \"No presentat\"\n",
    "dd.loc[dd['resultat']==1, 'resultat'] = \"Apte\"\n",
    "dd.loc[dd['resultat']==0, 'resultat'] = \"No apte\"\n",
    "dd.loc[dd['ambit_alumne']==1, 'ambit_alumne'] = \"Catalunya\"\n",
    "dd.loc[dd['ambit_alumne']==2, 'ambit_alumne'] = \"Balears\"\n",
    "dd.loc[dd['ambit_alumne']==3, 'ambit_alumne'] = \"País Valencià\"\n",
    "dd.loc[dd['ambit_alumne']==4, 'ambit_alumne'] = \"Resta de l'estat espanyol\"\n",
    "dd.loc[dd['ambit_alumne']==5, 'ambit_alumne'] = \"Resta del món\""
   ]
  },
  {
   "cell_type": "markdown",
   "metadata": {
    "id": "0Hpmyq3lVBad"
   },
   "source": [
    "5.  Es realitza una nova recodificació d'una variable en aquest cas per afegir informació a les categories"
   ]
  },
  {
   "cell_type": "code",
   "execution_count": null,
   "metadata": {
    "id": "tHdt-dYQVIH_"
   },
   "outputs": [],
   "source": [
    "dd.loc[dd['nivell']==\"Bàsic\", 'nivell'] = \"Bàsic (A2)\"\n",
    "dd.loc[dd['nivell']==\"Elemental\", 'nivell'] = \"Elemental (B1)\"\n",
    "dd.loc[dd['nivell']==\"Intermedi\", 'nivell'] = \"Intermedi (B2)\"\n",
    "dd.loc[dd['nivell']==\"Suficiència\", 'nivell'] = \"Suficiència (C1)\"\n",
    "dd.loc[dd['nivell']==\"Superior\", 'nivell'] = \"Superior (C2)\""
   ]
  },
  {
   "cell_type": "markdown",
   "metadata": {
    "id": "ZLtTtPjmW12I"
   },
   "source": [
    "6.  En penúltim lloc s'eliminaran alguns països dels estudiants perquè no es vol que aquests surtin a les gràfiques. Aquesta recodificació ha estat demanada pels usuaris interns de l'àrea de llengua i universitats"
   ]
  },
  {
   "cell_type": "code",
   "execution_count": null,
   "metadata": {
    "id": "MFYx2w4PXBtk"
   },
   "outputs": [],
   "source": [
    "dd.loc[dd['pais_alumne']==\"Afganistan\", 'pais_alumne'] = np.nan\n",
    "dd.loc[dd['pais_alumne']==\"Andorra\", 'pais_alumne'] = np.nan\n",
    "dd.loc[dd['pais_alumne']==\"Anguilla (Regne Unit)\", 'pais_alumne'] = np.nan\n",
    "dd.loc[dd['pais_alumne']==\"Armènia\", 'pais_alumne'] = np.nan\n",
    "dd.loc[dd['pais_alumne']==\"Aràbia Saudita\", 'pais_alumne'] = np.nan\n",
    "dd.loc[dd['pais_alumne']==\"Austràlia\", 'pais_alumne'] = np.nan\n",
    "dd.loc[dd['pais_alumne']==\"Bouvet, illa (Noruega)\", 'pais_alumne'] = np.nan\n",
    "dd.loc[dd['pais_alumne']==\"Christmas, illa\", 'pais_alumne'] = np.nan\n",
    "dd.loc[dd['pais_alumne']=='Corea, República Democràtica Popular de', 'pais_alumne'] = np.nan\n",
    "dd.loc[dd['pais_alumne']==\"Corea, República de\", 'pais_alumne'] = np.nan\n",
    "dd.loc[dd['pais_alumne']==\"Costa Rica\", 'pais_alumne'] = np.nan\n",
    "dd.loc[dd['pais_alumne']==\"Colòmbia\", 'pais_alumne'] = np.nan\n",
    "dd.loc[dd['pais_alumne']==\"Grècia\", 'pais_alumne'] = np.nan\n",
    "dd.loc[dd['pais_alumne']==\"Jamaica\", 'pais_alumne'] = np.nan\n",
    "dd.loc[dd['pais_alumne']==\"Letònia\", 'pais_alumne'] = np.nan\n",
    "dd.loc[dd['pais_alumne']==\"Lituània\", 'pais_alumne'] = np.nan\n",
    "dd.loc[dd['pais_alumne']==\"Malàisia\", 'pais_alumne'] = np.nan\n",
    "dd.loc[dd['pais_alumne']==\"Mauritània\", 'pais_alumne'] = np.nan\n",
    "dd.loc[dd['pais_alumne']==\"Montenegro\", 'pais_alumne'] = np.nan\n",
    "dd.loc[dd['pais_alumne']==\"Nepal\", 'pais_alumne'] = np.nan\n",
    "dd.loc[dd['pais_alumne']==\"Nicaragua\", 'pais_alumne'] = np.nan\n",
    "dd.loc[dd['pais_alumne']==\"Verges, illes (Regne Unit) \", 'pais_alumne'] = np.nan\n",
    "dd.loc[dd['pais_alumne']==\"Bòsnia i Hercegovina\", 'pais_alumne'] = np.nan"
   ]
  },
  {
   "cell_type": "markdown",
   "metadata": {
    "id": "ffwT-MokCi-w"
   },
   "source": [
    "7.  Finalment, es crea una nova variable anomenada nivell_pais_hcat que codificarà el nivell més comú donat un país i unes hores de català per a poder realitzar el gràfic: \"Nivell obtingut en funció del país de naixement i les hores de català estudiades\""
   ]
  },
  {
   "cell_type": "code",
   "execution_count": null,
   "metadata": {
    "id": "IQtHKtZHC3LM"
   },
   "outputs": [],
   "source": [
    "pais_naix = pd.unique(dd['pais_alumne'])\n",
    "hores_cat = pd.unique(dd['hores_catala_alumne'])\n",
    "\n",
    "dd['nivell_pais_hcat'] = np.nan\n",
    "\n",
    "for x in pais_naix:\n",
    "  for y in hores_cat:\n",
    "    filter = (dd['pais_alumne'] == x) & (dd['hores_catala_alumne'] == y) \n",
    "    if sum(filter) > 0: #ens assegurem que existeixi alguna tuple amb aquestes dues categories\n",
    "      nivell = dd.loc[filter, 'nivell'].value_counts().idxmax() #busquem el nivell més repetit\n",
    "      dd.loc[filter, 'nivell_pais_hcat'] = nivell "
   ]
  },
  {
   "cell_type": "markdown",
   "metadata": {
    "id": "uFs6OnatRBFt"
   },
   "source": [
    "### Es guarden les dades amb què es treballarà\n",
    "\n",
    "Un cop realitzats tots els canvis necessaris sobre el conjunt de dades, es guarden les dades amb què es treballarà a partir d'ara en un nou fitxer per no haver de fer cada cop tot el tractament de dades."
   ]
  },
  {
   "cell_type": "code",
   "execution_count": null,
   "metadata": {
    "colab": {
     "base_uri": "https://localhost:8080/",
     "height": 351
    },
    "id": "bMcGMTYO7mOT",
    "outputId": "f934a12d-ee4d-42eb-e4ad-ea3a16facd75"
   },
   "outputs": [
    {
     "data": {
      "text/html": [
       "\n",
       "  <div id=\"df-d32ef6dd-848c-47bd-913e-15fb5d27fda7\">\n",
       "    <div class=\"colab-df-container\">\n",
       "      <div>\n",
       "<style scoped>\n",
       "    .dataframe tbody tr th:only-of-type {\n",
       "        vertical-align: middle;\n",
       "    }\n",
       "\n",
       "    .dataframe tbody tr th {\n",
       "        vertical-align: top;\n",
       "    }\n",
       "\n",
       "    .dataframe thead th {\n",
       "        text-align: right;\n",
       "    }\n",
       "</style>\n",
       "<table border=\"1\" class=\"dataframe\">\n",
       "  <thead>\n",
       "    <tr style=\"text-align: right;\">\n",
       "      <th></th>\n",
       "      <th>id_examen</th>\n",
       "      <th>informe_avaluacio</th>\n",
       "      <th>certificat_mobilitat_creat</th>\n",
       "      <th>preu</th>\n",
       "      <th>import_pagat</th>\n",
       "      <th>data_pagament</th>\n",
       "      <th>presentat</th>\n",
       "      <th>resultat</th>\n",
       "      <th>id_conv_seus_nivells</th>\n",
       "      <th>actiu_conv_seus_nivells</th>\n",
       "      <th>...</th>\n",
       "      <th>tipus_institucio</th>\n",
       "      <th>llengua_materna_alumnes</th>\n",
       "      <th>Anglès</th>\n",
       "      <th>Francès</th>\n",
       "      <th>Castellà</th>\n",
       "      <th>Alemany</th>\n",
       "      <th>Italià</th>\n",
       "      <th>dies_inscripcio_convocatoria</th>\n",
       "      <th>edat_alumnes</th>\n",
       "      <th>nivell_pais_hcat</th>\n",
       "    </tr>\n",
       "  </thead>\n",
       "  <tbody>\n",
       "    <tr>\n",
       "      <th>0</th>\n",
       "      <td>3070</td>\n",
       "      <td>0</td>\n",
       "      <td>0</td>\n",
       "      <td>30</td>\n",
       "      <td>30</td>\n",
       "      <td>2011-03-20 12:11:47</td>\n",
       "      <td>1</td>\n",
       "      <td>Apte</td>\n",
       "      <td>1060</td>\n",
       "      <td>1</td>\n",
       "      <td>...</td>\n",
       "      <td>UNIVERSITAT</td>\n",
       "      <td>NaN</td>\n",
       "      <td>0</td>\n",
       "      <td>0</td>\n",
       "      <td>0</td>\n",
       "      <td>0</td>\n",
       "      <td>0</td>\n",
       "      <td>43</td>\n",
       "      <td>31.0</td>\n",
       "      <td>NaN</td>\n",
       "    </tr>\n",
       "    <tr>\n",
       "      <th>1</th>\n",
       "      <td>3466</td>\n",
       "      <td>0</td>\n",
       "      <td>0</td>\n",
       "      <td>30</td>\n",
       "      <td>30</td>\n",
       "      <td>2011-04-06 19:10:31</td>\n",
       "      <td>1</td>\n",
       "      <td>Apte</td>\n",
       "      <td>1060</td>\n",
       "      <td>1</td>\n",
       "      <td>...</td>\n",
       "      <td>UNIVERSITAT</td>\n",
       "      <td>Francès</td>\n",
       "      <td>0</td>\n",
       "      <td>0</td>\n",
       "      <td>0</td>\n",
       "      <td>0</td>\n",
       "      <td>0</td>\n",
       "      <td>43</td>\n",
       "      <td>31.0</td>\n",
       "      <td>NaN</td>\n",
       "    </tr>\n",
       "    <tr>\n",
       "      <th>2</th>\n",
       "      <td>4130</td>\n",
       "      <td>0</td>\n",
       "      <td>0</td>\n",
       "      <td>30</td>\n",
       "      <td>30</td>\n",
       "      <td>2011-04-28 11:08:12</td>\n",
       "      <td>1</td>\n",
       "      <td>Apte</td>\n",
       "      <td>1060</td>\n",
       "      <td>1</td>\n",
       "      <td>...</td>\n",
       "      <td>UNIVERSITAT</td>\n",
       "      <td>Francès</td>\n",
       "      <td>1</td>\n",
       "      <td>0</td>\n",
       "      <td>1</td>\n",
       "      <td>0</td>\n",
       "      <td>0</td>\n",
       "      <td>43</td>\n",
       "      <td>53.0</td>\n",
       "      <td>NaN</td>\n",
       "    </tr>\n",
       "    <tr>\n",
       "      <th>3</th>\n",
       "      <td>10657</td>\n",
       "      <td>0</td>\n",
       "      <td>0</td>\n",
       "      <td>30</td>\n",
       "      <td>0</td>\n",
       "      <td>NaT</td>\n",
       "      <td>1</td>\n",
       "      <td>Apte</td>\n",
       "      <td>5478</td>\n",
       "      <td>1</td>\n",
       "      <td>...</td>\n",
       "      <td>UNIVERSITAT</td>\n",
       "      <td>Francès</td>\n",
       "      <td>0</td>\n",
       "      <td>0</td>\n",
       "      <td>1</td>\n",
       "      <td>0</td>\n",
       "      <td>0</td>\n",
       "      <td>48</td>\n",
       "      <td>35.0</td>\n",
       "      <td>NaN</td>\n",
       "    </tr>\n",
       "    <tr>\n",
       "      <th>4</th>\n",
       "      <td>10723</td>\n",
       "      <td>0</td>\n",
       "      <td>0</td>\n",
       "      <td>30</td>\n",
       "      <td>0</td>\n",
       "      <td>NaT</td>\n",
       "      <td>1</td>\n",
       "      <td>Apte</td>\n",
       "      <td>5478</td>\n",
       "      <td>1</td>\n",
       "      <td>...</td>\n",
       "      <td>UNIVERSITAT</td>\n",
       "      <td>Francès</td>\n",
       "      <td>0</td>\n",
       "      <td>0</td>\n",
       "      <td>0</td>\n",
       "      <td>0</td>\n",
       "      <td>0</td>\n",
       "      <td>48</td>\n",
       "      <td>36.0</td>\n",
       "      <td>Bàsic (A2)</td>\n",
       "    </tr>\n",
       "  </tbody>\n",
       "</table>\n",
       "<p>5 rows × 71 columns</p>\n",
       "</div>\n",
       "      <button class=\"colab-df-convert\" onclick=\"convertToInteractive('df-d32ef6dd-848c-47bd-913e-15fb5d27fda7')\"\n",
       "              title=\"Convert this dataframe to an interactive table.\"\n",
       "              style=\"display:none;\">\n",
       "        \n",
       "  <svg xmlns=\"http://www.w3.org/2000/svg\" height=\"24px\"viewBox=\"0 0 24 24\"\n",
       "       width=\"24px\">\n",
       "    <path d=\"M0 0h24v24H0V0z\" fill=\"none\"/>\n",
       "    <path d=\"M18.56 5.44l.94 2.06.94-2.06 2.06-.94-2.06-.94-.94-2.06-.94 2.06-2.06.94zm-11 1L8.5 8.5l.94-2.06 2.06-.94-2.06-.94L8.5 2.5l-.94 2.06-2.06.94zm10 10l.94 2.06.94-2.06 2.06-.94-2.06-.94-.94-2.06-.94 2.06-2.06.94z\"/><path d=\"M17.41 7.96l-1.37-1.37c-.4-.4-.92-.59-1.43-.59-.52 0-1.04.2-1.43.59L10.3 9.45l-7.72 7.72c-.78.78-.78 2.05 0 2.83L4 21.41c.39.39.9.59 1.41.59.51 0 1.02-.2 1.41-.59l7.78-7.78 2.81-2.81c.8-.78.8-2.07 0-2.86zM5.41 20L4 18.59l7.72-7.72 1.47 1.35L5.41 20z\"/>\n",
       "  </svg>\n",
       "      </button>\n",
       "      \n",
       "  <style>\n",
       "    .colab-df-container {\n",
       "      display:flex;\n",
       "      flex-wrap:wrap;\n",
       "      gap: 12px;\n",
       "    }\n",
       "\n",
       "    .colab-df-convert {\n",
       "      background-color: #E8F0FE;\n",
       "      border: none;\n",
       "      border-radius: 50%;\n",
       "      cursor: pointer;\n",
       "      display: none;\n",
       "      fill: #1967D2;\n",
       "      height: 32px;\n",
       "      padding: 0 0 0 0;\n",
       "      width: 32px;\n",
       "    }\n",
       "\n",
       "    .colab-df-convert:hover {\n",
       "      background-color: #E2EBFA;\n",
       "      box-shadow: 0px 1px 2px rgba(60, 64, 67, 0.3), 0px 1px 3px 1px rgba(60, 64, 67, 0.15);\n",
       "      fill: #174EA6;\n",
       "    }\n",
       "\n",
       "    [theme=dark] .colab-df-convert {\n",
       "      background-color: #3B4455;\n",
       "      fill: #D2E3FC;\n",
       "    }\n",
       "\n",
       "    [theme=dark] .colab-df-convert:hover {\n",
       "      background-color: #434B5C;\n",
       "      box-shadow: 0px 1px 3px 1px rgba(0, 0, 0, 0.15);\n",
       "      filter: drop-shadow(0px 1px 2px rgba(0, 0, 0, 0.3));\n",
       "      fill: #FFFFFF;\n",
       "    }\n",
       "  </style>\n",
       "\n",
       "      <script>\n",
       "        const buttonEl =\n",
       "          document.querySelector('#df-d32ef6dd-848c-47bd-913e-15fb5d27fda7 button.colab-df-convert');\n",
       "        buttonEl.style.display =\n",
       "          google.colab.kernel.accessAllowed ? 'block' : 'none';\n",
       "\n",
       "        async function convertToInteractive(key) {\n",
       "          const element = document.querySelector('#df-d32ef6dd-848c-47bd-913e-15fb5d27fda7');\n",
       "          const dataTable =\n",
       "            await google.colab.kernel.invokeFunction('convertToInteractive',\n",
       "                                                     [key], {});\n",
       "          if (!dataTable) return;\n",
       "\n",
       "          const docLinkHtml = 'Like what you see? Visit the ' +\n",
       "            '<a target=\"_blank\" href=https://colab.research.google.com/notebooks/data_table.ipynb>data table notebook</a>'\n",
       "            + ' to learn more about interactive tables.';\n",
       "          element.innerHTML = '';\n",
       "          dataTable['output_type'] = 'display_data';\n",
       "          await google.colab.output.renderOutput(dataTable, element);\n",
       "          const docLink = document.createElement('div');\n",
       "          docLink.innerHTML = docLinkHtml;\n",
       "          element.appendChild(docLink);\n",
       "        }\n",
       "      </script>\n",
       "    </div>\n",
       "  </div>\n",
       "  "
      ],
      "text/plain": [
       "   id_examen  informe_avaluacio  certificat_mobilitat_creat  preu  \\\n",
       "0       3070                  0                           0    30   \n",
       "1       3466                  0                           0    30   \n",
       "2       4130                  0                           0    30   \n",
       "3      10657                  0                           0    30   \n",
       "4      10723                  0                           0    30   \n",
       "\n",
       "   import_pagat       data_pagament  presentat resultat  id_conv_seus_nivells  \\\n",
       "0            30 2011-03-20 12:11:47          1     Apte                  1060   \n",
       "1            30 2011-04-06 19:10:31          1     Apte                  1060   \n",
       "2            30 2011-04-28 11:08:12          1     Apte                  1060   \n",
       "3             0                 NaT          1     Apte                  5478   \n",
       "4             0                 NaT          1     Apte                  5478   \n",
       "\n",
       "   actiu_conv_seus_nivells  ...  tipus_institucio  llengua_materna_alumnes  \\\n",
       "0                        1  ...       UNIVERSITAT                      NaN   \n",
       "1                        1  ...       UNIVERSITAT                  Francès   \n",
       "2                        1  ...       UNIVERSITAT                  Francès   \n",
       "3                        1  ...       UNIVERSITAT                  Francès   \n",
       "4                        1  ...       UNIVERSITAT                  Francès   \n",
       "\n",
       "   Anglès Francès Castellà  Alemany  Italià  dies_inscripcio_convocatoria  \\\n",
       "0       0       0        0        0       0                            43   \n",
       "1       0       0        0        0       0                            43   \n",
       "2       1       0        1        0       0                            43   \n",
       "3       0       0        1        0       0                            48   \n",
       "4       0       0        0        0       0                            48   \n",
       "\n",
       "  edat_alumnes nivell_pais_hcat  \n",
       "0         31.0              NaN  \n",
       "1         31.0              NaN  \n",
       "2         53.0              NaN  \n",
       "3         35.0              NaN  \n",
       "4         36.0       Bàsic (A2)  \n",
       "\n",
       "[5 rows x 71 columns]"
      ]
     },
     "execution_count": 55,
     "metadata": {},
     "output_type": "execute_result"
    }
   ],
   "source": [
    "dd.head()"
   ]
  },
  {
   "cell_type": "code",
   "execution_count": null,
   "metadata": {
    "colab": {
     "base_uri": "https://localhost:8080/"
    },
    "id": "pQ2d-yEG9f9N",
    "outputId": "c54e3a8a-14a9-4cae-fb81-a97bf0eb3497"
   },
   "outputs": [
    {
     "name": "stdout",
     "output_type": "stream",
     "text": [
      "<class 'pandas.core.frame.DataFrame'>\n",
      "Int64Index: 19749 entries, 0 to 19761\n",
      "Data columns (total 71 columns):\n",
      " #   Column                                        Non-Null Count  Dtype         \n",
      "---  ------                                        --------------  -----         \n",
      " 0   id_examen                                     19749 non-null  int64         \n",
      " 1   informe_avaluacio                             19749 non-null  int64         \n",
      " 2   certificat_mobilitat_creat                    19749 non-null  int64         \n",
      " 3   preu                                          19749 non-null  int64         \n",
      " 4   import_pagat                                  19749 non-null  int64         \n",
      " 5   data_pagament                                 8815 non-null   datetime64[ns]\n",
      " 6   presentat                                     19749 non-null  int64         \n",
      " 7   resultat                                      19749 non-null  object        \n",
      " 8   id_conv_seus_nivells                          19749 non-null  int64         \n",
      " 9   actiu_conv_seus_nivells                       19749 non-null  int64         \n",
      " 10  preu_conv_seus_nivells                        19749 non-null  int64         \n",
      " 11  sequencial_conv_seus_nivells                  19749 non-null  int64         \n",
      " 12  id_nivell                                     19749 non-null  int64         \n",
      " 13  nivell                                        19749 non-null  object        \n",
      " 14  codi_nivell                                   19749 non-null  object        \n",
      " 15  preu_nivell                                   19749 non-null  int64         \n",
      " 16  num_clausus_nivell                            19749 non-null  int64         \n",
      " 17  id_conv_seus                                  19749 non-null  int64         \n",
      " 18  institucio_examen_conv_seus                   19749 non-null  object        \n",
      " 19  poblacio_examen_conv_seus                     19749 non-null  object        \n",
      " 20  format_electronic_conv_seus                   19749 non-null  int64         \n",
      " 21  enregistradora_conv_seus                      19749 non-null  int64         \n",
      " 22  id_convocatoria                               19749 non-null  int64         \n",
      " 23  nom_convocatoria                              19749 non-null  object        \n",
      " 24  any_convocatoria                              19749 non-null  int64         \n",
      " 25  codi_convocatoria                             19749 non-null  int64         \n",
      " 26  pagament_transferencia_actiu_convocatoria     19749 non-null  int64         \n",
      " 27  descarrega_proves_activa_convocatoria         19749 non-null  int64         \n",
      " 28  certificat_mobilitat_actiu_convocatoria       19749 non-null  int64         \n",
      " 29  data_obertura_liquidacio_convocatoria         19749 non-null  datetime64[ns]\n",
      " 30  data_tancament_liquidacio_convocatoria        19749 non-null  datetime64[ns]\n",
      " 31  data_examen                                   19749 non-null  datetime64[ns]\n",
      " 32  data_consulta_resultats_examens_convocatoria  19749 non-null  datetime64[ns]\n",
      " 33  data_obertura_inscripcio_convocatoria         19749 non-null  datetime64[ns]\n",
      " 34  data_tancament_inscripcio_convocatoria        19749 non-null  datetime64[ns]\n",
      " 35  id_seus                                       19749 non-null  int64         \n",
      " 36  nom_seus                                      19749 non-null  object        \n",
      " 37  sigles_seus                                   19749 non-null  object        \n",
      " 38  codi_seus                                     19749 non-null  int64         \n",
      " 39  gratuita_seus                                 19749 non-null  int64         \n",
      " 40  id_pais                                       19749 non-null  int64         \n",
      " 41  pais                                          19749 non-null  object        \n",
      " 42  num_pais                                      19740 non-null  float64       \n",
      " 43  irpf1_pais                                    19749 non-null  int64         \n",
      " 44  irpf2_pais                                    19749 non-null  int64         \n",
      " 45  id_alumnes                                    19749 non-null  int64         \n",
      " 46  data_naixement_alumne                         19365 non-null  datetime64[ns]\n",
      " 47  sexe_alumne                                   19719 non-null  object        \n",
      " 48  inscripcio_previa_cert_alumne                 19749 non-null  object        \n",
      " 49  nivell_estudis_alumne                         16866 non-null  object        \n",
      " 50  ocupacio_alumne                               11212 non-null  object        \n",
      " 51  hores_catala_alumne                           11238 non-null  object        \n",
      " 52  motiu_prova_alumne                            14153 non-null  object        \n",
      " 53  centre_catala_ultim_any                       9564 non-null   object        \n",
      " 54  uni_catala_ultim_any                          19698 non-null  object        \n",
      " 55  id_pais_alumnes                               19749 non-null  int64         \n",
      " 56  pais_alumne                                   19607 non-null  object        \n",
      " 57  num_pais_alumne                               19523 non-null  float64       \n",
      " 58  irpf1_pais_alumne                             19749 non-null  int64         \n",
      " 59  irpf2_pais_alumne                             19749 non-null  int64         \n",
      " 60  ambit_alumne                                  19749 non-null  object        \n",
      " 61  tipus_institucio                              19744 non-null  object        \n",
      " 62  llengua_materna_alumnes                       16822 non-null  object        \n",
      " 63  Anglès                                        19749 non-null  int64         \n",
      " 64  Francès                                       19749 non-null  int64         \n",
      " 65  Castellà                                      19749 non-null  int64         \n",
      " 66  Alemany                                       19749 non-null  int64         \n",
      " 67  Italià                                        19749 non-null  int64         \n",
      " 68  dies_inscripcio_convocatoria                  19749 non-null  int64         \n",
      " 69  edat_alumnes                                  19365 non-null  float64       \n",
      " 70  nivell_pais_hcat                              11175 non-null  object        \n",
      "dtypes: datetime64[ns](8), float64(3), int64(38), object(22)\n",
      "memory usage: 11.4+ MB\n"
     ]
    }
   ],
   "source": [
    "dd.info()"
   ]
  },
  {
   "cell_type": "code",
   "execution_count": null,
   "metadata": {
    "id": "i4ywxokERGRM"
   },
   "outputs": [],
   "source": [
    "dd.to_excel('certificacio_final.xlsx', index=False)"
   ]
  }
 ],
 "metadata": {
  "colab": {
   "collapsed_sections": [],
   "name": "certificacio.ipynb",
   "provenance": []
  },
  "kernelspec": {
   "display_name": "Python 3",
   "language": "python",
   "name": "python3"
  },
  "language_info": {
   "codemirror_mode": {
    "name": "ipython",
    "version": 3
   },
   "file_extension": ".py",
   "mimetype": "text/x-python",
   "name": "python",
   "nbconvert_exporter": "python",
   "pygments_lexer": "ipython3",
   "version": "3.7.0"
  }
 },
 "nbformat": 4,
 "nbformat_minor": 1
}
